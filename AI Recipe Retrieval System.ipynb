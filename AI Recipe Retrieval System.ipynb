{
 "cells": [
  {
   "cell_type": "markdown",
   "id": "968ebb49",
   "metadata": {
    "papermill": {
     "duration": 0.0072,
     "end_time": "2025-04-21T00:33:47.883698",
     "exception": false,
     "start_time": "2025-04-21T00:33:47.876498",
     "status": "completed"
    },
    "tags": []
   },
   "source": [
    "# AI-Powered Recipe Retrieval System"
   ]
  },
  {
   "cell_type": "markdown",
   "id": "0322613d",
   "metadata": {
    "papermill": {
     "duration": 0.005842,
     "end_time": "2025-04-21T00:33:47.896438",
     "exception": false,
     "start_time": "2025-04-21T00:33:47.890596",
     "status": "completed"
    },
    "tags": []
   },
   "source": [
    "## Problem Statement ❔\n",
    "Given a prebuilt recipe dataset from Kaggle, how can we leverage AI to efficiently respond to user queries such as:\n",
    "\n",
    "\n",
    "* Find me a recipe that takes 30 minutes⏳\n",
    "* Show me a South Indian cuisine recipe 🍛\n",
    "* List recipes with less than 5 ingredients 🍱\n",
    "* What cuisines are available in the dataset? 📃\n",
    "\n",
    "Manually filtering through large datasets is time-consuming. An AI-driven solution can automate query processing and retrieval, improving user experience."
   ]
  },
  {
   "cell_type": "markdown",
   "id": "050f7319",
   "metadata": {
    "papermill": {
     "duration": 0.005481,
     "end_time": "2025-04-21T00:33:47.909234",
     "exception": false,
     "start_time": "2025-04-21T00:33:47.903753",
     "status": "completed"
    },
    "tags": []
   },
   "source": [
    "## Solution 💡\n",
    "This project uses Gemini’s function calling capabilities to convert natural language queries into structured database operations. The AI interprets user requests, applies fuzzy logic, and retrieves relevant recipes by interacting with predefined functions."
   ]
  },
  {
   "cell_type": "markdown",
   "id": "72feeec3",
   "metadata": {
    "papermill": {
     "duration": 0.005719,
     "end_time": "2025-04-21T00:33:47.920830",
     "exception": false,
     "start_time": "2025-04-21T00:33:47.915111",
     "status": "completed"
    },
    "tags": []
   },
   "source": [
    "### Key Features:\n",
    "\n",
    "* Dynamic Query Handling: Translates natural language into structured database filters.\n",
    "* Efficient Retrieval: Quickly fetches recipes based on cuisine, cooking time, or ingredients.\n",
    "* Interactive Responses: Provides formatted JSON responses for easy readability."
   ]
  },
  {
   "cell_type": "markdown",
   "id": "02db347c",
   "metadata": {
    "papermill": {
     "duration": 0.0055,
     "end_time": "2025-04-21T00:33:47.932059",
     "exception": false,
     "start_time": "2025-04-21T00:33:47.926559",
     "status": "completed"
    },
    "tags": []
   },
   "source": [
    "### Workflow 📝\n",
    "\n",
    "1. **Predefined Functions**:\n",
    "* describe_columns() → Lists dataset columns and descriptions.filter_recipes(condition)\n",
    "* Filters recipes using boolean logic (e.g., \"Cuisine == 'Italian'\")\n",
    "* filterUniqueValuesOfColumn(column) → Retrieves unique values (e.g., all cuisines)\n",
    "\n",
    "2. **Tool Integration**:\n",
    "* Functions are injected into Gemini as tools, enabling AI to call them dynamically.\n",
    "\n",
    "3. **Few-Shot Prompting**:\n",
    "* The AI is given custom instructions to interpret user queries and map them to relevant functions.\n",
    "\n",
    "4. **Execution & Response**:\n",
    "* The AI processes the query, calls the appropriate function, and returns structured results."
   ]
  },
  {
   "cell_type": "markdown",
   "id": "1cab9716",
   "metadata": {
    "papermill": {
     "duration": 0.005498,
     "end_time": "2025-04-21T00:33:47.943765",
     "exception": false,
     "start_time": "2025-04-21T00:33:47.938267",
     "status": "completed"
    },
    "tags": []
   },
   "source": [
    "### Concepts Used ⚙️\n",
    "\n",
    "* **Function Calling** (Gemini API)\n",
    "* **Few-Shot Prompting** (Instruction-based query handling)\n",
    "* **Structured Data Retrieval** (Pandas DataFrame operations)\n"
   ]
  },
  {
   "cell_type": "markdown",
   "id": "21322ca1",
   "metadata": {
    "papermill": {
     "duration": 0.005912,
     "end_time": "2025-04-21T00:33:47.955547",
     "exception": false,
     "start_time": "2025-04-21T00:33:47.949635",
     "status": "completed"
    },
    "tags": []
   },
   "source": [
    "### Model Used 🦴\n",
    "\n",
    "* gemini-2.0-flash (Optimized for fast, structured responses)\n",
    "\n",
    "This system enhances recipe discovery by making it intuitive, fast, and AI-driven, improving accessibility for users searching for culinary inspiration. 🍽️"
   ]
  },
  {
   "cell_type": "markdown",
   "id": "3462016c",
   "metadata": {
    "papermill": {
     "duration": 0.005367,
     "end_time": "2025-04-21T00:33:47.966836",
     "exception": false,
     "start_time": "2025-04-21T00:33:47.961469",
     "status": "completed"
    },
    "tags": []
   },
   "source": [
    "# Configuration & Set Up"
   ]
  },
  {
   "cell_type": "markdown",
   "id": "b33a498f",
   "metadata": {
    "papermill": {
     "duration": 0.005764,
     "end_time": "2025-04-21T00:33:47.978436",
     "exception": false,
     "start_time": "2025-04-21T00:33:47.972672",
     "status": "completed"
    },
    "tags": []
   },
   "source": [
    "## Package Installation and Gemini API configuration"
   ]
  },
  {
   "cell_type": "code",
   "execution_count": 1,
   "id": "ae339884",
   "metadata": {
    "execution": {
     "iopub.execute_input": "2025-04-21T00:33:47.992109Z",
     "iopub.status.busy": "2025-04-21T00:33:47.991681Z",
     "iopub.status.idle": "2025-04-21T00:34:14.360051Z",
     "shell.execute_reply": "2025-04-21T00:34:14.358706Z"
    },
    "papermill": {
     "duration": 26.377161,
     "end_time": "2025-04-21T00:34:14.361758",
     "exception": false,
     "start_time": "2025-04-21T00:33:47.984597",
     "status": "completed"
    },
    "tags": []
   },
   "outputs": [
    {
     "name": "stdout",
     "output_type": "stream",
     "text": [
      "\u001b[33mWARNING: Skipping kfp as it is not installed.\u001b[0m\u001b[33m\r\n",
      "\u001b[0m"
     ]
    }
   ],
   "source": [
    "# Remove conflicting packages from the Kaggle base environment.\n",
    "!pip uninstall -qqy kfp jupyterlab libpysal thinc spacy fastai ydata-profiling google-cloud-bigquery google-generativeai"
   ]
  },
  {
   "cell_type": "code",
   "execution_count": 2,
   "id": "8dfc4ab4",
   "metadata": {
    "execution": {
     "iopub.execute_input": "2025-04-21T00:34:14.375771Z",
     "iopub.status.busy": "2025-04-21T00:34:14.375386Z",
     "iopub.status.idle": "2025-04-21T00:34:46.145633Z",
     "shell.execute_reply": "2025-04-21T00:34:46.144424Z"
    },
    "papermill": {
     "duration": 31.779256,
     "end_time": "2025-04-21T00:34:46.147322",
     "exception": false,
     "start_time": "2025-04-21T00:34:14.368066",
     "status": "completed"
    },
    "tags": []
   },
   "outputs": [
    {
     "name": "stdout",
     "output_type": "stream",
     "text": [
      "Collecting google-generativeai\r\n",
      "  Downloading google_generativeai-0.8.5-py3-none-any.whl.metadata (3.9 kB)\r\n",
      "Requirement already satisfied: pandas in /usr/local/lib/python3.11/dist-packages (2.2.3)\r\n",
      "Collecting faiss-cpu\r\n",
      "  Downloading faiss_cpu-1.10.0-cp311-cp311-manylinux_2_28_x86_64.whl.metadata (4.4 kB)\r\n",
      "Collecting python-dotenv\r\n",
      "  Downloading python_dotenv-1.1.0-py3-none-any.whl.metadata (24 kB)\r\n",
      "Requirement already satisfied: numpy in /usr/local/lib/python3.11/dist-packages (1.26.4)\r\n",
      "Collecting chromadb\r\n",
      "  Downloading chromadb-1.0.5-cp39-abi3-manylinux_2_17_x86_64.manylinux2014_x86_64.whl.metadata (6.9 kB)\r\n",
      "Requirement already satisfied: google-ai-generativelanguage==0.6.15 in /usr/local/lib/python3.11/dist-packages (from google-generativeai) (0.6.15)\r\n",
      "Requirement already satisfied: google-api-core in /usr/local/lib/python3.11/dist-packages (from google-generativeai) (1.34.1)\r\n",
      "Requirement already satisfied: google-api-python-client in /usr/local/lib/python3.11/dist-packages (from google-generativeai) (2.160.0)\r\n",
      "Requirement already satisfied: google-auth>=2.15.0 in /usr/local/lib/python3.11/dist-packages (from google-generativeai) (2.27.0)\r\n",
      "Requirement already satisfied: protobuf in /usr/local/lib/python3.11/dist-packages (from google-generativeai) (3.20.3)\r\n",
      "Requirement already satisfied: pydantic in /usr/local/lib/python3.11/dist-packages (from google-generativeai) (2.11.3)\r\n",
      "Requirement already satisfied: tqdm in /usr/local/lib/python3.11/dist-packages (from google-generativeai) (4.67.1)\r\n",
      "Requirement already satisfied: typing-extensions in /usr/local/lib/python3.11/dist-packages (from google-generativeai) (4.13.1)\r\n",
      "Requirement already satisfied: proto-plus<2.0.0dev,>=1.22.3 in /usr/local/lib/python3.11/dist-packages (from google-ai-generativelanguage==0.6.15->google-generativeai) (1.26.0)\r\n",
      "Requirement already satisfied: python-dateutil>=2.8.2 in /usr/local/lib/python3.11/dist-packages (from pandas) (2.9.0.post0)\r\n",
      "Requirement already satisfied: pytz>=2020.1 in /usr/local/lib/python3.11/dist-packages (from pandas) (2025.2)\r\n",
      "Requirement already satisfied: tzdata>=2022.7 in /usr/local/lib/python3.11/dist-packages (from pandas) (2025.2)\r\n",
      "Requirement already satisfied: packaging in /usr/local/lib/python3.11/dist-packages (from faiss-cpu) (24.2)\r\n",
      "Requirement already satisfied: mkl_fft in /usr/local/lib/python3.11/dist-packages (from numpy) (1.3.8)\r\n",
      "Requirement already satisfied: mkl_random in /usr/local/lib/python3.11/dist-packages (from numpy) (1.2.4)\r\n",
      "Requirement already satisfied: mkl_umath in /usr/local/lib/python3.11/dist-packages (from numpy) (0.1.1)\r\n",
      "Requirement already satisfied: mkl in /usr/local/lib/python3.11/dist-packages (from numpy) (2025.1.0)\r\n",
      "Requirement already satisfied: tbb4py in /usr/local/lib/python3.11/dist-packages (from numpy) (2022.1.0)\r\n",
      "Requirement already satisfied: mkl-service in /usr/local/lib/python3.11/dist-packages (from numpy) (2.4.1)\r\n",
      "Collecting build>=1.0.3 (from chromadb)\r\n",
      "  Downloading build-1.2.2.post1-py3-none-any.whl.metadata (6.5 kB)\r\n",
      "Collecting chroma-hnswlib==0.7.6 (from chromadb)\r\n",
      "  Downloading chroma_hnswlib-0.7.6-cp311-cp311-manylinux_2_17_x86_64.manylinux2014_x86_64.whl.metadata (252 bytes)\r\n",
      "Collecting fastapi==0.115.9 (from chromadb)\r\n",
      "  Downloading fastapi-0.115.9-py3-none-any.whl.metadata (27 kB)\r\n",
      "Collecting uvicorn>=0.18.3 (from uvicorn[standard]>=0.18.3->chromadb)\r\n",
      "  Downloading uvicorn-0.34.2-py3-none-any.whl.metadata (6.5 kB)\r\n",
      "Collecting posthog>=2.4.0 (from chromadb)\r\n",
      "  Downloading posthog-3.25.0-py2.py3-none-any.whl.metadata (3.0 kB)\r\n",
      "Collecting onnxruntime>=1.14.1 (from chromadb)\r\n",
      "  Downloading onnxruntime-1.21.1-cp311-cp311-manylinux_2_27_x86_64.manylinux_2_28_x86_64.whl.metadata (4.5 kB)\r\n",
      "Requirement already satisfied: opentelemetry-api>=1.2.0 in /usr/local/lib/python3.11/dist-packages (from chromadb) (1.16.0)\r\n",
      "Collecting opentelemetry-exporter-otlp-proto-grpc>=1.2.0 (from chromadb)\r\n",
      "  Downloading opentelemetry_exporter_otlp_proto_grpc-1.32.1-py3-none-any.whl.metadata (2.5 kB)\r\n",
      "Collecting opentelemetry-instrumentation-fastapi>=0.41b0 (from chromadb)\r\n",
      "  Downloading opentelemetry_instrumentation_fastapi-0.53b1-py3-none-any.whl.metadata (2.2 kB)\r\n",
      "Requirement already satisfied: opentelemetry-sdk>=1.2.0 in /usr/local/lib/python3.11/dist-packages (from chromadb) (1.16.0)\r\n",
      "Requirement already satisfied: tokenizers>=0.13.2 in /usr/local/lib/python3.11/dist-packages (from chromadb) (0.21.0)\r\n",
      "Collecting pypika>=0.48.9 (from chromadb)\r\n",
      "  Downloading PyPika-0.48.9.tar.gz (67 kB)\r\n",
      "\u001b[2K     \u001b[90m━━━━━━━━━━━━━━━━━━━━━━━━━━━━━━━━━━━━━━━━\u001b[0m \u001b[32m67.3/67.3 kB\u001b[0m \u001b[31m2.1 MB/s\u001b[0m eta \u001b[36m0:00:00\u001b[0m\r\n",
      "\u001b[?25h  Installing build dependencies ... \u001b[?25l\u001b[?25hdone\r\n",
      "  Getting requirements to build wheel ... \u001b[?25l\u001b[?25hdone\r\n",
      "  Preparing metadata (pyproject.toml) ... \u001b[?25l\u001b[?25hdone\r\n",
      "Requirement already satisfied: overrides>=7.3.1 in /usr/local/lib/python3.11/dist-packages (from chromadb) (7.7.0)\r\n",
      "Requirement already satisfied: importlib-resources in /usr/local/lib/python3.11/dist-packages (from chromadb) (6.5.2)\r\n",
      "Requirement already satisfied: grpcio>=1.58.0 in /usr/local/lib/python3.11/dist-packages (from chromadb) (1.70.0)\r\n",
      "Collecting bcrypt>=4.0.1 (from chromadb)\r\n",
      "  Downloading bcrypt-4.3.0-cp39-abi3-manylinux_2_34_x86_64.whl.metadata (10 kB)\r\n",
      "Requirement already satisfied: typer>=0.9.0 in /usr/local/lib/python3.11/dist-packages (from chromadb) (0.15.1)\r\n",
      "Collecting kubernetes>=28.1.0 (from chromadb)\r\n",
      "  Downloading kubernetes-32.0.1-py2.py3-none-any.whl.metadata (1.7 kB)\r\n",
      "Requirement already satisfied: tenacity>=8.2.3 in /usr/local/lib/python3.11/dist-packages (from chromadb) (9.0.0)\r\n",
      "Requirement already satisfied: pyyaml>=6.0.0 in /usr/local/lib/python3.11/dist-packages (from chromadb) (6.0.2)\r\n",
      "Collecting mmh3>=4.0.1 (from chromadb)\r\n",
      "  Downloading mmh3-5.1.0-cp311-cp311-manylinux_2_5_x86_64.manylinux1_x86_64.manylinux_2_17_x86_64.manylinux2014_x86_64.whl.metadata (16 kB)\r\n",
      "Requirement already satisfied: orjson>=3.9.12 in /usr/local/lib/python3.11/dist-packages (from chromadb) (3.10.15)\r\n",
      "Requirement already satisfied: httpx>=0.27.0 in /usr/local/lib/python3.11/dist-packages (from chromadb) (0.28.1)\r\n",
      "Requirement already satisfied: rich>=10.11.0 in /usr/local/lib/python3.11/dist-packages (from chromadb) (14.0.0)\r\n",
      "Requirement already satisfied: jsonschema>=4.19.0 in /usr/local/lib/python3.11/dist-packages (from chromadb) (4.23.0)\r\n",
      "Collecting starlette<0.46.0,>=0.40.0 (from fastapi==0.115.9->chromadb)\r\n",
      "  Downloading starlette-0.45.3-py3-none-any.whl.metadata (6.3 kB)\r\n",
      "Collecting pyproject_hooks (from build>=1.0.3->chromadb)\r\n",
      "  Downloading pyproject_hooks-1.2.0-py3-none-any.whl.metadata (1.3 kB)\r\n",
      "Requirement already satisfied: googleapis-common-protos<2.0dev,>=1.56.2 in /usr/local/lib/python3.11/dist-packages (from google-api-core->google-generativeai) (1.67.0)\r\n",
      "Requirement already satisfied: requests<3.0.0dev,>=2.18.0 in /usr/local/lib/python3.11/dist-packages (from google-api-core->google-generativeai) (2.32.3)\r\n",
      "Requirement already satisfied: cachetools<6.0,>=2.0.0 in /usr/local/lib/python3.11/dist-packages (from google-auth>=2.15.0->google-generativeai) (5.5.2)\r\n",
      "Requirement already satisfied: pyasn1-modules>=0.2.1 in /usr/local/lib/python3.11/dist-packages (from google-auth>=2.15.0->google-generativeai) (0.4.1)\r\n",
      "Requirement already satisfied: rsa<5,>=3.1.4 in /usr/local/lib/python3.11/dist-packages (from google-auth>=2.15.0->google-generativeai) (4.9)\r\n",
      "Requirement already satisfied: anyio in /usr/local/lib/python3.11/dist-packages (from httpx>=0.27.0->chromadb) (3.7.1)\r\n",
      "Requirement already satisfied: certifi in /usr/local/lib/python3.11/dist-packages (from httpx>=0.27.0->chromadb) (2025.1.31)\r\n",
      "Requirement already satisfied: httpcore==1.* in /usr/local/lib/python3.11/dist-packages (from httpx>=0.27.0->chromadb) (1.0.7)\r\n",
      "Requirement already satisfied: idna in /usr/local/lib/python3.11/dist-packages (from httpx>=0.27.0->chromadb) (3.10)\r\n",
      "Requirement already satisfied: h11<0.15,>=0.13 in /usr/local/lib/python3.11/dist-packages (from httpcore==1.*->httpx>=0.27.0->chromadb) (0.14.0)\r\n",
      "Requirement already satisfied: attrs>=22.2.0 in /usr/local/lib/python3.11/dist-packages (from jsonschema>=4.19.0->chromadb) (25.3.0)\r\n",
      "Requirement already satisfied: jsonschema-specifications>=2023.03.6 in /usr/local/lib/python3.11/dist-packages (from jsonschema>=4.19.0->chromadb) (2024.10.1)\r\n",
      "Requirement already satisfied: referencing>=0.28.4 in /usr/local/lib/python3.11/dist-packages (from jsonschema>=4.19.0->chromadb) (0.36.2)\r\n",
      "Requirement already satisfied: rpds-py>=0.7.1 in /usr/local/lib/python3.11/dist-packages (from jsonschema>=4.19.0->chromadb) (0.22.3)\r\n",
      "Requirement already satisfied: six>=1.9.0 in /usr/local/lib/python3.11/dist-packages (from kubernetes>=28.1.0->chromadb) (1.17.0)\r\n",
      "Requirement already satisfied: websocket-client!=0.40.0,!=0.41.*,!=0.42.*,>=0.32.0 in /usr/local/lib/python3.11/dist-packages (from kubernetes>=28.1.0->chromadb) (1.8.0)\r\n",
      "Requirement already satisfied: requests-oauthlib in /usr/local/lib/python3.11/dist-packages (from kubernetes>=28.1.0->chromadb) (2.0.0)\r\n",
      "Requirement already satisfied: oauthlib>=3.2.2 in /usr/local/lib/python3.11/dist-packages (from kubernetes>=28.1.0->chromadb) (3.2.2)\r\n",
      "Requirement already satisfied: urllib3>=1.24.2 in /usr/local/lib/python3.11/dist-packages (from kubernetes>=28.1.0->chromadb) (2.3.0)\r\n",
      "Collecting durationpy>=0.7 (from kubernetes>=28.1.0->chromadb)\r\n",
      "  Downloading durationpy-0.9-py3-none-any.whl.metadata (338 bytes)\r\n",
      "Collecting coloredlogs (from onnxruntime>=1.14.1->chromadb)\r\n",
      "  Downloading coloredlogs-15.0.1-py2.py3-none-any.whl.metadata (12 kB)\r\n",
      "Requirement already satisfied: flatbuffers in /usr/local/lib/python3.11/dist-packages (from onnxruntime>=1.14.1->chromadb) (25.2.10)\r\n",
      "Requirement already satisfied: sympy in /usr/local/lib/python3.11/dist-packages (from onnxruntime>=1.14.1->chromadb) (1.13.1)\r\n",
      "Requirement already satisfied: deprecated>=1.2.6 in /usr/local/lib/python3.11/dist-packages (from opentelemetry-api>=1.2.0->chromadb) (1.2.18)\r\n",
      "Requirement already satisfied: setuptools>=16.0 in /usr/local/lib/python3.11/dist-packages (from opentelemetry-api>=1.2.0->chromadb) (75.1.0)\r\n",
      "Collecting opentelemetry-exporter-otlp-proto-common==1.32.1 (from opentelemetry-exporter-otlp-proto-grpc>=1.2.0->chromadb)\r\n",
      "  Downloading opentelemetry_exporter_otlp_proto_common-1.32.1-py3-none-any.whl.metadata (1.9 kB)\r\n",
      "Collecting opentelemetry-proto==1.32.1 (from opentelemetry-exporter-otlp-proto-grpc>=1.2.0->chromadb)\r\n",
      "  Downloading opentelemetry_proto-1.32.1-py3-none-any.whl.metadata (2.4 kB)\r\n",
      "Collecting opentelemetry-sdk>=1.2.0 (from chromadb)\r\n",
      "  Downloading opentelemetry_sdk-1.32.1-py3-none-any.whl.metadata (1.6 kB)\r\n",
      "INFO: pip is looking at multiple versions of opentelemetry-proto to determine which version is compatible with other requirements. This could take a while.\r\n",
      "Collecting opentelemetry-exporter-otlp-proto-grpc>=1.2.0 (from chromadb)\r\n",
      "  Downloading opentelemetry_exporter_otlp_proto_grpc-1.32.0-py3-none-any.whl.metadata (2.5 kB)\r\n",
      "Collecting opentelemetry-exporter-otlp-proto-common==1.32.0 (from opentelemetry-exporter-otlp-proto-grpc>=1.2.0->chromadb)\r\n",
      "  Downloading opentelemetry_exporter_otlp_proto_common-1.32.0-py3-none-any.whl.metadata (1.9 kB)\r\n",
      "Collecting opentelemetry-proto==1.32.0 (from opentelemetry-exporter-otlp-proto-grpc>=1.2.0->chromadb)\r\n",
      "  Downloading opentelemetry_proto-1.32.0-py3-none-any.whl.metadata (2.4 kB)\r\n",
      "Collecting opentelemetry-exporter-otlp-proto-grpc>=1.2.0 (from chromadb)\r\n",
      "  Downloading opentelemetry_exporter_otlp_proto_grpc-1.31.1-py3-none-any.whl.metadata (2.5 kB)\r\n",
      "Collecting opentelemetry-exporter-otlp-proto-common==1.31.1 (from opentelemetry-exporter-otlp-proto-grpc>=1.2.0->chromadb)\r\n",
      "  Downloading opentelemetry_exporter_otlp_proto_common-1.31.1-py3-none-any.whl.metadata (1.9 kB)\r\n",
      "Collecting opentelemetry-proto==1.31.1 (from opentelemetry-exporter-otlp-proto-grpc>=1.2.0->chromadb)\r\n",
      "  Downloading opentelemetry_proto-1.31.1-py3-none-any.whl.metadata (2.4 kB)\r\n",
      "Collecting opentelemetry-sdk>=1.2.0 (from chromadb)\r\n",
      "  Downloading opentelemetry_sdk-1.31.1-py3-none-any.whl.metadata (1.6 kB)\r\n",
      "Collecting opentelemetry-exporter-otlp-proto-grpc>=1.2.0 (from chromadb)\r\n",
      "  Downloading opentelemetry_exporter_otlp_proto_grpc-1.31.0-py3-none-any.whl.metadata (2.5 kB)\r\n",
      "Collecting opentelemetry-exporter-otlp-proto-common==1.31.0 (from opentelemetry-exporter-otlp-proto-grpc>=1.2.0->chromadb)\r\n",
      "  Downloading opentelemetry_exporter_otlp_proto_common-1.31.0-py3-none-any.whl.metadata (1.9 kB)\r\n",
      "Collecting opentelemetry-proto==1.31.0 (from opentelemetry-exporter-otlp-proto-grpc>=1.2.0->chromadb)\r\n",
      "  Downloading opentelemetry_proto-1.31.0-py3-none-any.whl.metadata (2.4 kB)\r\n",
      "Collecting opentelemetry-exporter-otlp-proto-grpc>=1.2.0 (from chromadb)\r\n",
      "  Downloading opentelemetry_exporter_otlp_proto_grpc-1.30.0-py3-none-any.whl.metadata (2.4 kB)\r\n",
      "Collecting opentelemetry-exporter-otlp-proto-common==1.30.0 (from opentelemetry-exporter-otlp-proto-grpc>=1.2.0->chromadb)\r\n",
      "  Downloading opentelemetry_exporter_otlp_proto_common-1.30.0-py3-none-any.whl.metadata (1.9 kB)\r\n",
      "Collecting opentelemetry-proto==1.30.0 (from opentelemetry-exporter-otlp-proto-grpc>=1.2.0->chromadb)\r\n",
      "  Downloading opentelemetry_proto-1.30.0-py3-none-any.whl.metadata (2.4 kB)\r\n",
      "Collecting opentelemetry-sdk>=1.2.0 (from chromadb)\r\n",
      "  Downloading opentelemetry_sdk-1.30.0-py3-none-any.whl.metadata (1.6 kB)\r\n",
      "Collecting opentelemetry-exporter-otlp-proto-grpc>=1.2.0 (from chromadb)\r\n",
      "  Downloading opentelemetry_exporter_otlp_proto_grpc-1.29.0-py3-none-any.whl.metadata (2.2 kB)\r\n",
      "Collecting opentelemetry-exporter-otlp-proto-common==1.29.0 (from opentelemetry-exporter-otlp-proto-grpc>=1.2.0->chromadb)\r\n",
      "  Downloading opentelemetry_exporter_otlp_proto_common-1.29.0-py3-none-any.whl.metadata (1.8 kB)\r\n",
      "Collecting opentelemetry-proto==1.29.0 (from opentelemetry-exporter-otlp-proto-grpc>=1.2.0->chromadb)\r\n",
      "  Downloading opentelemetry_proto-1.29.0-py3-none-any.whl.metadata (2.3 kB)\r\n",
      "Collecting opentelemetry-sdk>=1.2.0 (from chromadb)\r\n",
      "  Downloading opentelemetry_sdk-1.29.0-py3-none-any.whl.metadata (1.5 kB)\r\n",
      "Collecting opentelemetry-exporter-otlp-proto-grpc>=1.2.0 (from chromadb)\r\n",
      "  Downloading opentelemetry_exporter_otlp_proto_grpc-1.28.2-py3-none-any.whl.metadata (2.2 kB)\r\n",
      "Collecting opentelemetry-exporter-otlp-proto-common==1.28.2 (from opentelemetry-exporter-otlp-proto-grpc>=1.2.0->chromadb)\r\n",
      "  Downloading opentelemetry_exporter_otlp_proto_common-1.28.2-py3-none-any.whl.metadata (1.8 kB)\r\n",
      "Collecting opentelemetry-proto==1.28.2 (from opentelemetry-exporter-otlp-proto-grpc>=1.2.0->chromadb)\r\n",
      "  Downloading opentelemetry_proto-1.28.2-py3-none-any.whl.metadata (2.3 kB)\r\n",
      "Collecting opentelemetry-sdk>=1.2.0 (from chromadb)\r\n",
      "  Downloading opentelemetry_sdk-1.28.2-py3-none-any.whl.metadata (1.5 kB)\r\n",
      "Collecting opentelemetry-exporter-otlp-proto-grpc>=1.2.0 (from chromadb)\r\n",
      "  Downloading opentelemetry_exporter_otlp_proto_grpc-1.28.1-py3-none-any.whl.metadata (2.3 kB)\r\n",
      "Collecting opentelemetry-exporter-otlp-proto-common==1.28.1 (from opentelemetry-exporter-otlp-proto-grpc>=1.2.0->chromadb)\r\n",
      "  Downloading opentelemetry_exporter_otlp_proto_common-1.28.1-py3-none-any.whl.metadata (1.8 kB)\r\n",
      "Collecting opentelemetry-proto==1.28.1 (from opentelemetry-exporter-otlp-proto-grpc>=1.2.0->chromadb)\r\n",
      "  Downloading opentelemetry_proto-1.28.1-py3-none-any.whl.metadata (2.3 kB)\r\n",
      "INFO: pip is still looking at multiple versions of opentelemetry-proto to determine which version is compatible with other requirements. This could take a while.\r\n",
      "Collecting opentelemetry-exporter-otlp-proto-grpc>=1.2.0 (from chromadb)\r\n",
      "  Downloading opentelemetry_exporter_otlp_proto_grpc-1.28.0-py3-none-any.whl.metadata (2.3 kB)\r\n",
      "Collecting opentelemetry-exporter-otlp-proto-common==1.28.0 (from opentelemetry-exporter-otlp-proto-grpc>=1.2.0->chromadb)\r\n",
      "  Downloading opentelemetry_exporter_otlp_proto_common-1.28.0-py3-none-any.whl.metadata (1.8 kB)\r\n",
      "Collecting opentelemetry-proto==1.28.0 (from opentelemetry-exporter-otlp-proto-grpc>=1.2.0->chromadb)\r\n",
      "  Downloading opentelemetry_proto-1.28.0-py3-none-any.whl.metadata (2.3 kB)\r\n",
      "Collecting opentelemetry-exporter-otlp-proto-grpc>=1.2.0 (from chromadb)\r\n",
      "  Downloading opentelemetry_exporter_otlp_proto_grpc-1.27.0-py3-none-any.whl.metadata (2.3 kB)\r\n",
      "Collecting opentelemetry-exporter-otlp-proto-common==1.27.0 (from opentelemetry-exporter-otlp-proto-grpc>=1.2.0->chromadb)\r\n",
      "  Downloading opentelemetry_exporter_otlp_proto_common-1.27.0-py3-none-any.whl.metadata (1.8 kB)\r\n",
      "Collecting opentelemetry-proto==1.27.0 (from opentelemetry-exporter-otlp-proto-grpc>=1.2.0->chromadb)\r\n",
      "  Downloading opentelemetry_proto-1.27.0-py3-none-any.whl.metadata (2.3 kB)\r\n",
      "Collecting opentelemetry-sdk>=1.2.0 (from chromadb)\r\n",
      "  Downloading opentelemetry_sdk-1.27.0-py3-none-any.whl.metadata (1.5 kB)\r\n",
      "Collecting opentelemetry-instrumentation-asgi==0.53b1 (from opentelemetry-instrumentation-fastapi>=0.41b0->chromadb)\r\n",
      "  Downloading opentelemetry_instrumentation_asgi-0.53b1-py3-none-any.whl.metadata (2.1 kB)\r\n",
      "Collecting opentelemetry-instrumentation==0.53b1 (from opentelemetry-instrumentation-fastapi>=0.41b0->chromadb)\r\n",
      "  Downloading opentelemetry_instrumentation-0.53b1-py3-none-any.whl.metadata (6.8 kB)\r\n",
      "Collecting opentelemetry-semantic-conventions==0.53b1 (from opentelemetry-instrumentation-fastapi>=0.41b0->chromadb)\r\n",
      "  Downloading opentelemetry_semantic_conventions-0.53b1-py3-none-any.whl.metadata (2.5 kB)\r\n",
      "Collecting opentelemetry-util-http==0.53b1 (from opentelemetry-instrumentation-fastapi>=0.41b0->chromadb)\r\n",
      "  Downloading opentelemetry_util_http-0.53b1-py3-none-any.whl.metadata (2.6 kB)\r\n",
      "Requirement already satisfied: wrapt<2.0.0,>=1.0.0 in /usr/local/lib/python3.11/dist-packages (from opentelemetry-instrumentation==0.53b1->opentelemetry-instrumentation-fastapi>=0.41b0->chromadb) (1.17.2)\r\n",
      "Collecting asgiref~=3.0 (from opentelemetry-instrumentation-asgi==0.53b1->opentelemetry-instrumentation-fastapi>=0.41b0->chromadb)\r\n",
      "\u001b[33m  WARNING: Retrying (Retry(total=4, connect=None, read=None, redirect=None, status=None)) after connection broken by 'ProtocolError('Connection aborted.', RemoteDisconnected('Remote end closed connection without response'))': /packages/39/e3/893e8757be2612e6c266d9bb58ad2e3651524b5b40cf56761e985a28b13e/asgiref-3.8.1-py3-none-any.whl.metadata\u001b[0m\u001b[33m\r\n",
      "\u001b[0m  Downloading asgiref-3.8.1-py3-none-any.whl.metadata (9.3 kB)\r\n",
      "Collecting opentelemetry-api>=1.2.0 (from chromadb)\r\n",
      "\u001b[33m  WARNING: Retrying (Retry(total=4, connect=None, read=None, redirect=None, status=None)) after connection broken by 'ProtocolError('Connection aborted.', RemoteDisconnected('Remote end closed connection without response'))': /packages/12/f2/89ea3361a305466bc6460a532188830351220b5f0851a5fa133155c16eca/opentelemetry_api-1.32.1-py3-none-any.whl.metadata\u001b[0m\u001b[33m\r\n",
      "\u001b[0m  Downloading opentelemetry_api-1.32.1-py3-none-any.whl.metadata (1.6 kB)\r\n",
      "Requirement already satisfied: importlib-metadata<8.7.0,>=6.0 in /usr/local/lib/python3.11/dist-packages (from opentelemetry-api>=1.2.0->chromadb) (8.6.1)\r\n",
      "INFO: pip is looking at multiple versions of opentelemetry-sdk to determine which version is compatible with other requirements. This could take a while.\r\n",
      "Collecting opentelemetry-instrumentation-fastapi>=0.41b0 (from chromadb)\r\n",
      "  Downloading opentelemetry_instrumentation_fastapi-0.53b0-py3-none-any.whl.metadata (2.2 kB)\r\n",
      "Collecting opentelemetry-instrumentation-asgi==0.53b0 (from opentelemetry-instrumentation-fastapi>=0.41b0->chromadb)\r\n",
      "  Downloading opentelemetry_instrumentation_asgi-0.53b0-py3-none-any.whl.metadata (2.1 kB)\r\n",
      "Collecting opentelemetry-instrumentation==0.53b0 (from opentelemetry-instrumentation-fastapi>=0.41b0->chromadb)\r\n",
      "  Downloading opentelemetry_instrumentation-0.53b0-py3-none-any.whl.metadata (6.8 kB)\r\n",
      "Collecting opentelemetry-semantic-conventions==0.53b0 (from opentelemetry-instrumentation-fastapi>=0.41b0->chromadb)\r\n",
      "  Downloading opentelemetry_semantic_conventions-0.53b0-py3-none-any.whl.metadata (2.5 kB)\r\n",
      "Collecting opentelemetry-util-http==0.53b0 (from opentelemetry-instrumentation-fastapi>=0.41b0->chromadb)\r\n",
      "  Downloading opentelemetry_util_http-0.53b0-py3-none-any.whl.metadata (2.6 kB)\r\n",
      "Collecting opentelemetry-api>=1.2.0 (from chromadb)\r\n",
      "  Downloading opentelemetry_api-1.32.0-py3-none-any.whl.metadata (1.6 kB)\r\n",
      "Collecting opentelemetry-instrumentation-fastapi>=0.41b0 (from chromadb)\r\n",
      "  Downloading opentelemetry_instrumentation_fastapi-0.52b1-py3-none-any.whl.metadata (2.2 kB)\r\n",
      "Collecting opentelemetry-instrumentation-asgi==0.52b1 (from opentelemetry-instrumentation-fastapi>=0.41b0->chromadb)\r\n",
      "  Downloading opentelemetry_instrumentation_asgi-0.52b1-py3-none-any.whl.metadata (2.1 kB)\r\n",
      "Collecting opentelemetry-instrumentation==0.52b1 (from opentelemetry-instrumentation-fastapi>=0.41b0->chromadb)\r\n",
      "  Downloading opentelemetry_instrumentation-0.52b1-py3-none-any.whl.metadata (6.8 kB)\r\n",
      "Collecting opentelemetry-semantic-conventions==0.52b1 (from opentelemetry-instrumentation-fastapi>=0.41b0->chromadb)\r\n",
      "  Downloading opentelemetry_semantic_conventions-0.52b1-py3-none-any.whl.metadata (2.5 kB)\r\n",
      "Collecting opentelemetry-util-http==0.52b1 (from opentelemetry-instrumentation-fastapi>=0.41b0->chromadb)\r\n",
      "  Downloading opentelemetry_util_http-0.52b1-py3-none-any.whl.metadata (2.6 kB)\r\n",
      "Collecting opentelemetry-api>=1.2.0 (from chromadb)\r\n",
      "  Downloading opentelemetry_api-1.31.1-py3-none-any.whl.metadata (1.6 kB)\r\n",
      "Collecting opentelemetry-instrumentation-fastapi>=0.41b0 (from chromadb)\r\n",
      "  Downloading opentelemetry_instrumentation_fastapi-0.52b0-py3-none-any.whl.metadata (2.2 kB)\r\n",
      "Collecting opentelemetry-instrumentation-asgi==0.52b0 (from opentelemetry-instrumentation-fastapi>=0.41b0->chromadb)\r\n",
      "  Downloading opentelemetry_instrumentation_asgi-0.52b0-py3-none-any.whl.metadata (2.1 kB)\r\n",
      "Collecting opentelemetry-instrumentation==0.52b0 (from opentelemetry-instrumentation-fastapi>=0.41b0->chromadb)\r\n",
      "  Downloading opentelemetry_instrumentation-0.52b0-py3-none-any.whl.metadata (6.8 kB)\r\n",
      "Collecting opentelemetry-semantic-conventions==0.52b0 (from opentelemetry-instrumentation-fastapi>=0.41b0->chromadb)\r\n",
      "  Downloading opentelemetry_semantic_conventions-0.52b0-py3-none-any.whl.metadata (2.5 kB)\r\n",
      "Collecting opentelemetry-util-http==0.52b0 (from opentelemetry-instrumentation-fastapi>=0.41b0->chromadb)\r\n",
      "  Downloading opentelemetry_util_http-0.52b0-py3-none-any.whl.metadata (2.6 kB)\r\n",
      "Collecting opentelemetry-api>=1.2.0 (from chromadb)\r\n",
      "  Downloading opentelemetry_api-1.31.0-py3-none-any.whl.metadata (1.6 kB)\r\n",
      "Collecting opentelemetry-instrumentation-fastapi>=0.41b0 (from chromadb)\r\n",
      "  Downloading opentelemetry_instrumentation_fastapi-0.51b0-py3-none-any.whl.metadata (2.2 kB)\r\n",
      "Collecting opentelemetry-instrumentation-asgi==0.51b0 (from opentelemetry-instrumentation-fastapi>=0.41b0->chromadb)\r\n",
      "  Downloading opentelemetry_instrumentation_asgi-0.51b0-py3-none-any.whl.metadata (2.1 kB)\r\n",
      "Collecting opentelemetry-instrumentation==0.51b0 (from opentelemetry-instrumentation-fastapi>=0.41b0->chromadb)\r\n",
      "  Downloading opentelemetry_instrumentation-0.51b0-py3-none-any.whl.metadata (6.3 kB)\r\n",
      "Collecting opentelemetry-semantic-conventions==0.51b0 (from opentelemetry-instrumentation-fastapi>=0.41b0->chromadb)\r\n",
      "  Downloading opentelemetry_semantic_conventions-0.51b0-py3-none-any.whl.metadata (2.5 kB)\r\n",
      "Collecting opentelemetry-util-http==0.51b0 (from opentelemetry-instrumentation-fastapi>=0.41b0->chromadb)\r\n",
      "  Downloading opentelemetry_util_http-0.51b0-py3-none-any.whl.metadata (2.6 kB)\r\n",
      "Collecting opentelemetry-api>=1.2.0 (from chromadb)\r\n",
      "  Downloading opentelemetry_api-1.30.0-py3-none-any.whl.metadata (1.6 kB)\r\n",
      "Collecting importlib-metadata<=8.5.0,>=6.0 (from opentelemetry-api>=1.2.0->chromadb)\r\n",
      "  Downloading importlib_metadata-8.5.0-py3-none-any.whl.metadata (4.8 kB)\r\n",
      "Collecting opentelemetry-instrumentation-fastapi>=0.41b0 (from chromadb)\r\n",
      "  Downloading opentelemetry_instrumentation_fastapi-0.50b0-py3-none-any.whl.metadata (2.1 kB)\r\n",
      "Collecting opentelemetry-instrumentation-asgi==0.50b0 (from opentelemetry-instrumentation-fastapi>=0.41b0->chromadb)\r\n",
      "  Downloading opentelemetry_instrumentation_asgi-0.50b0-py3-none-any.whl.metadata (1.9 kB)\r\n",
      "Collecting opentelemetry-instrumentation==0.50b0 (from opentelemetry-instrumentation-fastapi>=0.41b0->chromadb)\r\n",
      "  Downloading opentelemetry_instrumentation-0.50b0-py3-none-any.whl.metadata (6.1 kB)\r\n",
      "Collecting opentelemetry-semantic-conventions==0.50b0 (from opentelemetry-instrumentation-fastapi>=0.41b0->chromadb)\r\n",
      "  Downloading opentelemetry_semantic_conventions-0.50b0-py3-none-any.whl.metadata (2.3 kB)\r\n",
      "Collecting opentelemetry-util-http==0.50b0 (from opentelemetry-instrumentation-fastapi>=0.41b0->chromadb)\r\n",
      "  Downloading opentelemetry_util_http-0.50b0-py3-none-any.whl.metadata (2.5 kB)\r\n",
      "Collecting opentelemetry-api>=1.2.0 (from chromadb)\r\n",
      "  Downloading opentelemetry_api-1.29.0-py3-none-any.whl.metadata (1.4 kB)\r\n",
      "Collecting opentelemetry-instrumentation-fastapi>=0.41b0 (from chromadb)\r\n",
      "  Downloading opentelemetry_instrumentation_fastapi-0.49b2-py3-none-any.whl.metadata (2.1 kB)\r\n",
      "Collecting opentelemetry-instrumentation-asgi==0.49b2 (from opentelemetry-instrumentation-fastapi>=0.41b0->chromadb)\r\n",
      "  Downloading opentelemetry_instrumentation_asgi-0.49b2-py3-none-any.whl.metadata (1.9 kB)\r\n",
      "Collecting opentelemetry-instrumentation==0.49b2 (from opentelemetry-instrumentation-fastapi>=0.41b0->chromadb)\r\n",
      "  Downloading opentelemetry_instrumentation-0.49b2-py3-none-any.whl.metadata (6.1 kB)\r\n",
      "Collecting opentelemetry-semantic-conventions==0.49b2 (from opentelemetry-instrumentation-fastapi>=0.41b0->chromadb)\r\n",
      "  Downloading opentelemetry_semantic_conventions-0.49b2-py3-none-any.whl.metadata (2.3 kB)\r\n",
      "Collecting opentelemetry-util-http==0.49b2 (from opentelemetry-instrumentation-fastapi>=0.41b0->chromadb)\r\n",
      "  Downloading opentelemetry_util_http-0.49b2-py3-none-any.whl.metadata (2.5 kB)\r\n",
      "Collecting opentelemetry-api>=1.2.0 (from chromadb)\r\n",
      "  Downloading opentelemetry_api-1.28.2-py3-none-any.whl.metadata (1.4 kB)\r\n",
      "Collecting opentelemetry-instrumentation-fastapi>=0.41b0 (from chromadb)\r\n",
      "  Downloading opentelemetry_instrumentation_fastapi-0.49b1-py3-none-any.whl.metadata (2.1 kB)\r\n",
      "Collecting opentelemetry-instrumentation-asgi==0.49b1 (from opentelemetry-instrumentation-fastapi>=0.41b0->chromadb)\r\n",
      "  Downloading opentelemetry_instrumentation_asgi-0.49b1-py3-none-any.whl.metadata (2.0 kB)\r\n",
      "Collecting opentelemetry-instrumentation==0.49b1 (from opentelemetry-instrumentation-fastapi>=0.41b0->chromadb)\r\n",
      "  Downloading opentelemetry_instrumentation-0.49b1-py3-none-any.whl.metadata (6.2 kB)\r\n",
      "Collecting opentelemetry-semantic-conventions==0.49b1 (from opentelemetry-instrumentation-fastapi>=0.41b0->chromadb)\r\n",
      "  Downloading opentelemetry_semantic_conventions-0.49b1-py3-none-any.whl.metadata (2.4 kB)\r\n",
      "Collecting opentelemetry-util-http==0.49b1 (from opentelemetry-instrumentation-fastapi>=0.41b0->chromadb)\r\n",
      "  Downloading opentelemetry_util_http-0.49b1-py3-none-any.whl.metadata (2.5 kB)\r\n",
      "Collecting opentelemetry-api>=1.2.0 (from chromadb)\r\n",
      "  Downloading opentelemetry_api-1.28.1-py3-none-any.whl.metadata (1.4 kB)\r\n",
      "INFO: pip is still looking at multiple versions of opentelemetry-sdk to determine which version is compatible with other requirements. This could take a while.\r\n",
      "Collecting opentelemetry-instrumentation-fastapi>=0.41b0 (from chromadb)\r\n",
      "  Downloading opentelemetry_instrumentation_fastapi-0.49b0-py3-none-any.whl.metadata (2.1 kB)\r\n",
      "Collecting opentelemetry-instrumentation-asgi==0.49b0 (from opentelemetry-instrumentation-fastapi>=0.41b0->chromadb)\r\n",
      "  Downloading opentelemetry_instrumentation_asgi-0.49b0-py3-none-any.whl.metadata (2.0 kB)\r\n",
      "Collecting opentelemetry-instrumentation==0.49b0 (from opentelemetry-instrumentation-fastapi>=0.41b0->chromadb)\r\n",
      "  Downloading opentelemetry_instrumentation-0.49b0-py3-none-any.whl.metadata (6.2 kB)\r\n",
      "Collecting opentelemetry-semantic-conventions==0.49b0 (from opentelemetry-instrumentation-fastapi>=0.41b0->chromadb)\r\n",
      "  Downloading opentelemetry_semantic_conventions-0.49b0-py3-none-any.whl.metadata (2.4 kB)\r\n",
      "Collecting opentelemetry-util-http==0.49b0 (from opentelemetry-instrumentation-fastapi>=0.41b0->chromadb)\r\n",
      "  Downloading opentelemetry_util_http-0.49b0-py3-none-any.whl.metadata (2.5 kB)\r\n",
      "Collecting opentelemetry-api>=1.2.0 (from chromadb)\r\n",
      "  Downloading opentelemetry_api-1.28.0-py3-none-any.whl.metadata (1.4 kB)\r\n",
      "Collecting opentelemetry-instrumentation-fastapi>=0.41b0 (from chromadb)\r\n",
      "  Downloading opentelemetry_instrumentation_fastapi-0.48b0-py3-none-any.whl.metadata (2.1 kB)\r\n",
      "Collecting opentelemetry-instrumentation-asgi==0.48b0 (from opentelemetry-instrumentation-fastapi>=0.41b0->chromadb)\r\n",
      "  Downloading opentelemetry_instrumentation_asgi-0.48b0-py3-none-any.whl.metadata (2.0 kB)\r\n",
      "Collecting opentelemetry-instrumentation==0.48b0 (from opentelemetry-instrumentation-fastapi>=0.41b0->chromadb)\r\n",
      "  Downloading opentelemetry_instrumentation-0.48b0-py3-none-any.whl.metadata (6.1 kB)\r\n",
      "Collecting opentelemetry-semantic-conventions==0.48b0 (from opentelemetry-instrumentation-fastapi>=0.41b0->chromadb)\r\n",
      "  Downloading opentelemetry_semantic_conventions-0.48b0-py3-none-any.whl.metadata (2.4 kB)\r\n",
      "Collecting opentelemetry-util-http==0.48b0 (from opentelemetry-instrumentation-fastapi>=0.41b0->chromadb)\r\n",
      "  Downloading opentelemetry_util_http-0.48b0-py3-none-any.whl.metadata (2.5 kB)\r\n",
      "Collecting opentelemetry-api>=1.2.0 (from chromadb)\r\n",
      "  Downloading opentelemetry_api-1.27.0-py3-none-any.whl.metadata (1.4 kB)\r\n",
      "Collecting importlib-metadata<=8.4.0,>=6.0 (from opentelemetry-api>=1.2.0->chromadb)\r\n",
      "  Downloading importlib_metadata-8.4.0-py3-none-any.whl.metadata (4.7 kB)\r\n",
      "Collecting monotonic>=1.5 (from posthog>=2.4.0->chromadb)\r\n",
      "  Downloading monotonic-1.6-py2.py3-none-any.whl.metadata (1.5 kB)\r\n",
      "Collecting backoff>=1.10.0 (from posthog>=2.4.0->chromadb)\r\n",
      "  Downloading backoff-2.2.1-py3-none-any.whl.metadata (14 kB)\r\n",
      "Requirement already satisfied: distro>=1.5.0 in /usr/local/lib/python3.11/dist-packages (from posthog>=2.4.0->chromadb) (1.9.0)\r\n",
      "Requirement already satisfied: annotated-types>=0.6.0 in /usr/local/lib/python3.11/dist-packages (from pydantic->google-generativeai) (0.7.0)\r\n",
      "Requirement already satisfied: pydantic-core==2.33.1 in /usr/local/lib/python3.11/dist-packages (from pydantic->google-generativeai) (2.33.1)\r\n",
      "Requirement already satisfied: typing-inspection>=0.4.0 in /usr/local/lib/python3.11/dist-packages (from pydantic->google-generativeai) (0.4.0)\r\n",
      "Requirement already satisfied: markdown-it-py>=2.2.0 in /usr/local/lib/python3.11/dist-packages (from rich>=10.11.0->chromadb) (3.0.0)\r\n",
      "Requirement already satisfied: pygments<3.0.0,>=2.13.0 in /usr/local/lib/python3.11/dist-packages (from rich>=10.11.0->chromadb) (2.19.1)\r\n",
      "Requirement already satisfied: huggingface-hub<1.0,>=0.16.4 in /usr/local/lib/python3.11/dist-packages (from tokenizers>=0.13.2->chromadb) (0.30.2)\r\n",
      "Requirement already satisfied: click>=8.0.0 in /usr/local/lib/python3.11/dist-packages (from typer>=0.9.0->chromadb) (8.1.8)\r\n",
      "Requirement already satisfied: shellingham>=1.3.0 in /usr/local/lib/python3.11/dist-packages (from typer>=0.9.0->chromadb) (1.5.4)\r\n",
      "Collecting httptools>=0.6.3 (from uvicorn[standard]>=0.18.3->chromadb)\r\n",
      "  Downloading httptools-0.6.4-cp311-cp311-manylinux_2_5_x86_64.manylinux1_x86_64.manylinux_2_17_x86_64.manylinux2014_x86_64.whl.metadata (3.6 kB)\r\n",
      "Collecting uvloop!=0.15.0,!=0.15.1,>=0.14.0 (from uvicorn[standard]>=0.18.3->chromadb)\r\n",
      "  Downloading uvloop-0.21.0-cp311-cp311-manylinux_2_17_x86_64.manylinux2014_x86_64.whl.metadata (4.9 kB)\r\n",
      "Collecting watchfiles>=0.13 (from uvicorn[standard]>=0.18.3->chromadb)\r\n",
      "  Downloading watchfiles-1.0.5-cp311-cp311-manylinux_2_17_x86_64.manylinux2014_x86_64.whl.metadata (4.9 kB)\r\n",
      "Requirement already satisfied: websockets>=10.4 in /usr/local/lib/python3.11/dist-packages (from uvicorn[standard]>=0.18.3->chromadb) (14.2)\r\n",
      "Requirement already satisfied: httplib2<1.dev0,>=0.19.0 in /usr/local/lib/python3.11/dist-packages (from google-api-python-client->google-generativeai) (0.22.0)\r\n",
      "Requirement already satisfied: google-auth-httplib2<1.0.0,>=0.2.0 in /usr/local/lib/python3.11/dist-packages (from google-api-python-client->google-generativeai) (0.2.0)\r\n",
      "Requirement already satisfied: uritemplate<5,>=3.0.1 in /usr/local/lib/python3.11/dist-packages (from google-api-python-client->google-generativeai) (4.1.1)\r\n",
      "Requirement already satisfied: intel-openmp<2026,>=2024 in /usr/local/lib/python3.11/dist-packages (from mkl->numpy) (2024.2.0)\r\n",
      "Requirement already satisfied: tbb==2022.* in /usr/local/lib/python3.11/dist-packages (from mkl->numpy) (2022.1.0)\r\n",
      "Requirement already satisfied: tcmlib==1.* in /usr/local/lib/python3.11/dist-packages (from tbb==2022.*->mkl->numpy) (1.2.0)\r\n",
      "Requirement already satisfied: intel-cmplr-lib-rt in /usr/local/lib/python3.11/dist-packages (from mkl_umath->numpy) (2024.2.0)\r\n",
      "Requirement already satisfied: grpcio-status<2.0dev,>=1.33.2 in /usr/local/lib/python3.11/dist-packages (from google-api-core[grpc]!=2.0.*,!=2.1.*,!=2.10.*,!=2.2.*,!=2.3.*,!=2.4.*,!=2.5.*,!=2.6.*,!=2.7.*,!=2.8.*,!=2.9.*,<3.0.0dev,>=1.34.1->google-ai-generativelanguage==0.6.15->google-generativeai) (1.48.2)\r\n",
      "Requirement already satisfied: pyparsing!=3.0.0,!=3.0.1,!=3.0.2,!=3.0.3,<4,>=2.4.2 in /usr/local/lib/python3.11/dist-packages (from httplib2<1.dev0,>=0.19.0->google-api-python-client->google-generativeai) (3.2.1)\r\n",
      "Requirement already satisfied: filelock in /usr/local/lib/python3.11/dist-packages (from huggingface-hub<1.0,>=0.16.4->tokenizers>=0.13.2->chromadb) (3.18.0)\r\n",
      "Requirement already satisfied: fsspec>=2023.5.0 in /usr/local/lib/python3.11/dist-packages (from huggingface-hub<1.0,>=0.16.4->tokenizers>=0.13.2->chromadb) (2025.3.2)\r\n",
      "Requirement already satisfied: zipp>=0.5 in /usr/local/lib/python3.11/dist-packages (from importlib-metadata<=8.4.0,>=6.0->opentelemetry-api>=1.2.0->chromadb) (3.21.0)\r\n",
      "Requirement already satisfied: intel-cmplr-lib-ur==2024.2.0 in /usr/local/lib/python3.11/dist-packages (from intel-openmp<2026,>=2024->mkl->numpy) (2024.2.0)\r\n",
      "Requirement already satisfied: mdurl~=0.1 in /usr/local/lib/python3.11/dist-packages (from markdown-it-py>=2.2.0->rich>=10.11.0->chromadb) (0.1.2)\r\n",
      "Requirement already satisfied: pyasn1<0.7.0,>=0.4.6 in /usr/local/lib/python3.11/dist-packages (from pyasn1-modules>=0.2.1->google-auth>=2.15.0->google-generativeai) (0.6.1)\r\n",
      "Requirement already satisfied: charset-normalizer<4,>=2 in /usr/local/lib/python3.11/dist-packages (from requests<3.0.0dev,>=2.18.0->google-api-core->google-generativeai) (3.4.1)\r\n",
      "Requirement already satisfied: sniffio>=1.1 in /usr/local/lib/python3.11/dist-packages (from anyio->httpx>=0.27.0->chromadb) (1.3.1)\r\n",
      "Collecting humanfriendly>=9.1 (from coloredlogs->onnxruntime>=1.14.1->chromadb)\r\n",
      "  Downloading humanfriendly-10.0-py2.py3-none-any.whl.metadata (9.2 kB)\r\n",
      "Requirement already satisfied: mpmath<1.4,>=1.1.0 in /usr/local/lib/python3.11/dist-packages (from sympy->onnxruntime>=1.14.1->chromadb) (1.3.0)\r\n",
      "Downloading google_generativeai-0.8.5-py3-none-any.whl (155 kB)\r\n",
      "\u001b[2K   \u001b[90m━━━━━━━━━━━━━━━━━━━━━━━━━━━━━━━━━━━━━━━━\u001b[0m \u001b[32m155.4/155.4 kB\u001b[0m \u001b[31m3.7 MB/s\u001b[0m eta \u001b[36m0:00:00\u001b[0m\r\n",
      "\u001b[?25hDownloading faiss_cpu-1.10.0-cp311-cp311-manylinux_2_28_x86_64.whl (30.7 MB)\r\n",
      "\u001b[2K   \u001b[90m━━━━━━━━━━━━━━━━━━━━━━━━━━━━━━━━━━━━━━━━\u001b[0m \u001b[32m30.7/30.7 MB\u001b[0m \u001b[31m49.0 MB/s\u001b[0m eta \u001b[36m0:00:00\u001b[0m\r\n",
      "\u001b[?25hDownloading python_dotenv-1.1.0-py3-none-any.whl (20 kB)\r\n",
      "Downloading chromadb-1.0.5-cp39-abi3-manylinux_2_17_x86_64.manylinux2014_x86_64.whl (18.3 MB)\r\n",
      "\u001b[2K   \u001b[90m━━━━━━━━━━━━━━━━━━━━━━━━━━━━━━━━━━━━━━━━\u001b[0m \u001b[32m18.3/18.3 MB\u001b[0m \u001b[31m67.7 MB/s\u001b[0m eta \u001b[36m0:00:00\u001b[0m\r\n",
      "\u001b[?25hDownloading chroma_hnswlib-0.7.6-cp311-cp311-manylinux_2_17_x86_64.manylinux2014_x86_64.whl (2.4 MB)\r\n",
      "\u001b[2K   \u001b[90m━━━━━━━━━━━━━━━━━━━━━━━━━━━━━━━━━━━━━━━━\u001b[0m \u001b[32m2.4/2.4 MB\u001b[0m \u001b[31m62.3 MB/s\u001b[0m eta \u001b[36m0:00:00\u001b[0m\r\n",
      "\u001b[?25hDownloading fastapi-0.115.9-py3-none-any.whl (94 kB)\r\n",
      "\u001b[2K   \u001b[90m━━━━━━━━━━━━━━━━━━━━━━━━━━━━━━━━━━━━━━━━\u001b[0m \u001b[32m94.9/94.9 kB\u001b[0m \u001b[31m4.7 MB/s\u001b[0m eta \u001b[36m0:00:00\u001b[0m\r\n",
      "\u001b[?25hDownloading bcrypt-4.3.0-cp39-abi3-manylinux_2_34_x86_64.whl (284 kB)\r\n",
      "\u001b[2K   \u001b[90m━━━━━━━━━━━━━━━━━━━━━━━━━━━━━━━━━━━━━━━━\u001b[0m \u001b[32m284.2/284.2 kB\u001b[0m \u001b[31m15.1 MB/s\u001b[0m eta \u001b[36m0:00:00\u001b[0m\r\n",
      "\u001b[?25hDownloading build-1.2.2.post1-py3-none-any.whl (22 kB)\r\n",
      "Downloading kubernetes-32.0.1-py2.py3-none-any.whl (2.0 MB)\r\n",
      "\u001b[2K   \u001b[90m━━━━━━━━━━━━━━━━━━━━━━━━━━━━━━━━━━━━━━━━\u001b[0m \u001b[32m2.0/2.0 MB\u001b[0m \u001b[31m51.6 MB/s\u001b[0m eta \u001b[36m0:00:00\u001b[0m\r\n",
      "\u001b[?25hDownloading mmh3-5.1.0-cp311-cp311-manylinux_2_5_x86_64.manylinux1_x86_64.manylinux_2_17_x86_64.manylinux2014_x86_64.whl (101 kB)\r\n",
      "\u001b[2K   \u001b[90m━━━━━━━━━━━━━━━━━━━━━━━━━━━━━━━━━━━━━━━━\u001b[0m \u001b[32m101.6/101.6 kB\u001b[0m \u001b[31m5.5 MB/s\u001b[0m eta \u001b[36m0:00:00\u001b[0m\r\n",
      "\u001b[?25hDownloading onnxruntime-1.21.1-cp311-cp311-manylinux_2_27_x86_64.manylinux_2_28_x86_64.whl (16.0 MB)\r\n",
      "\u001b[2K   \u001b[90m━━━━━━━━━━━━━━━━━━━━━━━━━━━━━━━━━━━━━━━━\u001b[0m \u001b[32m16.0/16.0 MB\u001b[0m \u001b[31m73.4 MB/s\u001b[0m eta \u001b[36m0:00:00\u001b[0m\r\n",
      "\u001b[?25hDownloading opentelemetry_exporter_otlp_proto_grpc-1.27.0-py3-none-any.whl (18 kB)\r\n",
      "Downloading opentelemetry_proto-1.27.0-py3-none-any.whl (52 kB)\r\n",
      "\u001b[2K   \u001b[90m━━━━━━━━━━━━━━━━━━━━━━━━━━━━━━━━━━━━━━━━\u001b[0m \u001b[32m52.5/52.5 kB\u001b[0m \u001b[31m2.6 MB/s\u001b[0m eta \u001b[36m0:00:00\u001b[0m\r\n",
      "\u001b[?25hDownloading opentelemetry_exporter_otlp_proto_common-1.27.0-py3-none-any.whl (17 kB)\r\n",
      "Downloading opentelemetry_instrumentation_fastapi-0.48b0-py3-none-any.whl (11 kB)\r\n",
      "Downloading opentelemetry_instrumentation-0.48b0-py3-none-any.whl (29 kB)\r\n",
      "Downloading opentelemetry_instrumentation_asgi-0.48b0-py3-none-any.whl (15 kB)\r\n",
      "Downloading opentelemetry_semantic_conventions-0.48b0-py3-none-any.whl (149 kB)\r\n",
      "\u001b[2K   \u001b[90m━━━━━━━━━━━━━━━━━━━━━━━━━━━━━━━━━━━━━━━━\u001b[0m \u001b[32m149.7/149.7 kB\u001b[0m \u001b[31m7.6 MB/s\u001b[0m eta \u001b[36m0:00:00\u001b[0m\r\n",
      "\u001b[?25hDownloading opentelemetry_api-1.27.0-py3-none-any.whl (63 kB)\r\n",
      "\u001b[2K   \u001b[90m━━━━━━━━━━━━━━━━━━━━━━━━━━━━━━━━━━━━━━━━\u001b[0m \u001b[32m64.0/64.0 kB\u001b[0m \u001b[31m3.7 MB/s\u001b[0m eta \u001b[36m0:00:00\u001b[0m\r\n",
      "\u001b[?25hDownloading opentelemetry_util_http-0.48b0-py3-none-any.whl (6.9 kB)\r\n",
      "Downloading opentelemetry_sdk-1.27.0-py3-none-any.whl (110 kB)\r\n",
      "\u001b[2K   \u001b[90m━━━━━━━━━━━━━━━━━━━━━━━━━━━━━━━━━━━━━━━━\u001b[0m \u001b[32m110.5/110.5 kB\u001b[0m \u001b[31m6.0 MB/s\u001b[0m eta \u001b[36m0:00:00\u001b[0m\r\n",
      "\u001b[?25hDownloading posthog-3.25.0-py2.py3-none-any.whl (89 kB)\r\n",
      "\u001b[2K   \u001b[90m━━━━━━━━━━━━━━━━━━━━━━━━━━━━━━━━━━━━━━━━\u001b[0m \u001b[32m89.1/89.1 kB\u001b[0m \u001b[31m4.5 MB/s\u001b[0m eta \u001b[36m0:00:00\u001b[0m\r\n",
      "\u001b[?25hDownloading uvicorn-0.34.2-py3-none-any.whl (62 kB)\r\n",
      "\u001b[2K   \u001b[90m━━━━━━━━━━━━━━━━━━━━━━━━━━━━━━━━━━━━━━━━\u001b[0m \u001b[32m62.5/62.5 kB\u001b[0m \u001b[31m2.5 MB/s\u001b[0m eta \u001b[36m0:00:00\u001b[0m\r\n",
      "\u001b[?25hDownloading backoff-2.2.1-py3-none-any.whl (15 kB)\r\n",
      "Downloading durationpy-0.9-py3-none-any.whl (3.5 kB)\r\n",
      "Downloading httptools-0.6.4-cp311-cp311-manylinux_2_5_x86_64.manylinux1_x86_64.manylinux_2_17_x86_64.manylinux2014_x86_64.whl (459 kB)\r\n",
      "\u001b[2K   \u001b[90m━━━━━━━━━━━━━━━━━━━━━━━━━━━━━━━━━━━━━━━━\u001b[0m \u001b[32m459.8/459.8 kB\u001b[0m \u001b[31m20.3 MB/s\u001b[0m eta \u001b[36m0:00:00\u001b[0m\r\n",
      "\u001b[?25hDownloading importlib_metadata-8.4.0-py3-none-any.whl (26 kB)\r\n",
      "Downloading monotonic-1.6-py2.py3-none-any.whl (8.2 kB)\r\n",
      "Downloading starlette-0.45.3-py3-none-any.whl (71 kB)\r\n",
      "\u001b[2K   \u001b[90m━━━━━━━━━━━━━━━━━━━━━━━━━━━━━━━━━━━━━━━━\u001b[0m \u001b[32m71.5/71.5 kB\u001b[0m \u001b[31m4.0 MB/s\u001b[0m eta \u001b[36m0:00:00\u001b[0m\r\n",
      "\u001b[?25hDownloading uvloop-0.21.0-cp311-cp311-manylinux_2_17_x86_64.manylinux2014_x86_64.whl (4.0 MB)\r\n",
      "\u001b[2K   \u001b[90m━━━━━━━━━━━━━━━━━━━━━━━━━━━━━━━━━━━━━━━━\u001b[0m \u001b[32m4.0/4.0 MB\u001b[0m \u001b[31m68.2 MB/s\u001b[0m eta \u001b[36m0:00:00\u001b[0m\r\n",
      "\u001b[?25hDownloading watchfiles-1.0.5-cp311-cp311-manylinux_2_17_x86_64.manylinux2014_x86_64.whl (454 kB)\r\n",
      "\u001b[2K   \u001b[90m━━━━━━━━━━━━━━━━━━━━━━━━━━━━━━━━━━━━━━━━\u001b[0m \u001b[32m454.8/454.8 kB\u001b[0m \u001b[31m20.8 MB/s\u001b[0m eta \u001b[36m0:00:00\u001b[0m\r\n",
      "\u001b[?25hDownloading coloredlogs-15.0.1-py2.py3-none-any.whl (46 kB)\r\n",
      "\u001b[2K   \u001b[90m━━━━━━━━━━━━━━━━━━━━━━━━━━━━━━━━━━━━━━━━\u001b[0m \u001b[32m46.0/46.0 kB\u001b[0m \u001b[31m2.3 MB/s\u001b[0m eta \u001b[36m0:00:00\u001b[0m\r\n",
      "\u001b[?25hDownloading pyproject_hooks-1.2.0-py3-none-any.whl (10 kB)\r\n",
      "Downloading asgiref-3.8.1-py3-none-any.whl (23 kB)\r\n",
      "Downloading humanfriendly-10.0-py2.py3-none-any.whl (86 kB)\r\n",
      "\u001b[2K   \u001b[90m━━━━━━━━━━━━━━━━━━━━━━━━━━━━━━━━━━━━━━━━\u001b[0m \u001b[32m86.8/86.8 kB\u001b[0m \u001b[31m4.2 MB/s\u001b[0m eta \u001b[36m0:00:00\u001b[0m\r\n",
      "\u001b[?25hBuilding wheels for collected packages: pypika\r\n",
      "  Building wheel for pypika (pyproject.toml) ... \u001b[?25l\u001b[?25hdone\r\n",
      "  Created wheel for pypika: filename=pypika-0.48.9-py2.py3-none-any.whl size=53801 sha256=1d22ffd602e9bb69a6711703b2144251c4f765067e63bae59ca1d08e3d58628a\r\n",
      "  Stored in directory: /root/.cache/pip/wheels/a3/01/bd/4c40ceb9d5354160cb186dcc153360f4ab7eb23e2b24daf96d\r\n",
      "Successfully built pypika\r\n",
      "Installing collected packages: pypika, monotonic, durationpy, uvloop, uvicorn, python-dotenv, pyproject_hooks, opentelemetry-util-http, opentelemetry-proto, mmh3, importlib-metadata, humanfriendly, httptools, bcrypt, backoff, asgiref, watchfiles, starlette, posthog, opentelemetry-exporter-otlp-proto-common, opentelemetry-api, coloredlogs, build, opentelemetry-semantic-conventions, opentelemetry-instrumentation, kubernetes, fastapi, opentelemetry-sdk, opentelemetry-instrumentation-asgi, opentelemetry-instrumentation-fastapi, opentelemetry-exporter-otlp-proto-grpc, google-generativeai, onnxruntime, chroma-hnswlib, faiss-cpu, chromadb\r\n",
      "  Attempting uninstall: importlib-metadata\r\n",
      "    Found existing installation: importlib_metadata 8.6.1\r\n",
      "    Uninstalling importlib_metadata-8.6.1:\r\n",
      "      Successfully uninstalled importlib_metadata-8.6.1\r\n",
      "  Attempting uninstall: opentelemetry-api\r\n",
      "    Found existing installation: opentelemetry-api 1.16.0\r\n",
      "    Uninstalling opentelemetry-api-1.16.0:\r\n",
      "      Successfully uninstalled opentelemetry-api-1.16.0\r\n",
      "  Attempting uninstall: opentelemetry-semantic-conventions\r\n",
      "    Found existing installation: opentelemetry-semantic-conventions 0.37b0\r\n",
      "    Uninstalling opentelemetry-semantic-conventions-0.37b0:\r\n",
      "      Successfully uninstalled opentelemetry-semantic-conventions-0.37b0\r\n",
      "  Attempting uninstall: opentelemetry-sdk\r\n",
      "    Found existing installation: opentelemetry-sdk 1.16.0\r\n",
      "    Uninstalling opentelemetry-sdk-1.16.0:\r\n",
      "      Successfully uninstalled opentelemetry-sdk-1.16.0\r\n",
      "Successfully installed asgiref-3.8.1 backoff-2.2.1 bcrypt-4.3.0 build-1.2.2.post1 chroma-hnswlib-0.7.6 chromadb-1.0.5 coloredlogs-15.0.1 durationpy-0.9 faiss-cpu-1.10.0 fastapi-0.115.9 google-generativeai-0.8.5 httptools-0.6.4 humanfriendly-10.0 importlib-metadata-8.4.0 kubernetes-32.0.1 mmh3-5.1.0 monotonic-1.6 onnxruntime-1.21.1 opentelemetry-api-1.27.0 opentelemetry-exporter-otlp-proto-common-1.27.0 opentelemetry-exporter-otlp-proto-grpc-1.27.0 opentelemetry-instrumentation-0.48b0 opentelemetry-instrumentation-asgi-0.48b0 opentelemetry-instrumentation-fastapi-0.48b0 opentelemetry-proto-1.27.0 opentelemetry-sdk-1.27.0 opentelemetry-semantic-conventions-0.48b0 opentelemetry-util-http-0.48b0 posthog-3.25.0 pypika-0.48.9 pyproject_hooks-1.2.0 python-dotenv-1.1.0 starlette-0.45.3 uvicorn-0.34.2 uvloop-0.21.0 watchfiles-1.0.5\r\n",
      "Note: you may need to restart the kernel to use updated packages.\n"
     ]
    }
   ],
   "source": [
    "pip install google-generativeai pandas faiss-cpu python-dotenv numpy chromadb"
   ]
  },
  {
   "cell_type": "code",
   "execution_count": 3,
   "id": "23a5577f",
   "metadata": {
    "execution": {
     "iopub.execute_input": "2025-04-21T00:34:46.182876Z",
     "iopub.status.busy": "2025-04-21T00:34:46.182505Z",
     "iopub.status.idle": "2025-04-21T00:34:53.950109Z",
     "shell.execute_reply": "2025-04-21T00:34:53.948842Z"
    },
    "papermill": {
     "duration": 7.787827,
     "end_time": "2025-04-21T00:34:53.951892",
     "exception": false,
     "start_time": "2025-04-21T00:34:46.164065",
     "status": "completed"
    },
    "tags": []
   },
   "outputs": [
    {
     "name": "stdout",
     "output_type": "stream",
     "text": [
      "Requirement already satisfied: google-generativeai in /usr/local/lib/python3.11/dist-packages (0.8.5)\r\n",
      "Requirement already satisfied: google-auth in /usr/local/lib/python3.11/dist-packages (2.27.0)\r\n",
      "Collecting google-auth\r\n",
      "  Downloading google_auth-2.39.0-py2.py3-none-any.whl.metadata (6.2 kB)\r\n",
      "Requirement already satisfied: google-api-python-client in /usr/local/lib/python3.11/dist-packages (2.160.0)\r\n",
      "Collecting google-api-python-client\r\n",
      "  Downloading google_api_python_client-2.167.0-py2.py3-none-any.whl.metadata (6.7 kB)\r\n",
      "Requirement already satisfied: google-ai-generativelanguage==0.6.15 in /usr/local/lib/python3.11/dist-packages (from google-generativeai) (0.6.15)\r\n",
      "Requirement already satisfied: google-api-core in /usr/local/lib/python3.11/dist-packages (from google-generativeai) (1.34.1)\r\n",
      "Requirement already satisfied: protobuf in /usr/local/lib/python3.11/dist-packages (from google-generativeai) (3.20.3)\r\n",
      "Requirement already satisfied: pydantic in /usr/local/lib/python3.11/dist-packages (from google-generativeai) (2.11.3)\r\n",
      "Requirement already satisfied: tqdm in /usr/local/lib/python3.11/dist-packages (from google-generativeai) (4.67.1)\r\n",
      "Requirement already satisfied: typing-extensions in /usr/local/lib/python3.11/dist-packages (from google-generativeai) (4.13.1)\r\n",
      "Requirement already satisfied: proto-plus<2.0.0dev,>=1.22.3 in /usr/local/lib/python3.11/dist-packages (from google-ai-generativelanguage==0.6.15->google-generativeai) (1.26.0)\r\n",
      "Requirement already satisfied: cachetools<6.0,>=2.0.0 in /usr/local/lib/python3.11/dist-packages (from google-auth) (5.5.2)\r\n",
      "Requirement already satisfied: pyasn1-modules>=0.2.1 in /usr/local/lib/python3.11/dist-packages (from google-auth) (0.4.1)\r\n",
      "Requirement already satisfied: rsa<5,>=3.1.4 in /usr/local/lib/python3.11/dist-packages (from google-auth) (4.9)\r\n",
      "Requirement already satisfied: httplib2<1.0.0,>=0.19.0 in /usr/local/lib/python3.11/dist-packages (from google-api-python-client) (0.22.0)\r\n",
      "Requirement already satisfied: google-auth-httplib2<1.0.0,>=0.2.0 in /usr/local/lib/python3.11/dist-packages (from google-api-python-client) (0.2.0)\r\n",
      "Requirement already satisfied: uritemplate<5,>=3.0.1 in /usr/local/lib/python3.11/dist-packages (from google-api-python-client) (4.1.1)\r\n",
      "Requirement already satisfied: googleapis-common-protos<2.0dev,>=1.56.2 in /usr/local/lib/python3.11/dist-packages (from google-api-core->google-generativeai) (1.67.0)\r\n",
      "Requirement already satisfied: requests<3.0.0dev,>=2.18.0 in /usr/local/lib/python3.11/dist-packages (from google-api-core->google-generativeai) (2.32.3)\r\n",
      "Requirement already satisfied: pyparsing!=3.0.0,!=3.0.1,!=3.0.2,!=3.0.3,<4,>=2.4.2 in /usr/local/lib/python3.11/dist-packages (from httplib2<1.0.0,>=0.19.0->google-api-python-client) (3.2.1)\r\n",
      "Requirement already satisfied: pyasn1<0.7.0,>=0.4.6 in /usr/local/lib/python3.11/dist-packages (from pyasn1-modules>=0.2.1->google-auth) (0.6.1)\r\n",
      "Requirement already satisfied: annotated-types>=0.6.0 in /usr/local/lib/python3.11/dist-packages (from pydantic->google-generativeai) (0.7.0)\r\n",
      "Requirement already satisfied: pydantic-core==2.33.1 in /usr/local/lib/python3.11/dist-packages (from pydantic->google-generativeai) (2.33.1)\r\n",
      "Requirement already satisfied: typing-inspection>=0.4.0 in /usr/local/lib/python3.11/dist-packages (from pydantic->google-generativeai) (0.4.0)\r\n",
      "Requirement already satisfied: grpcio<2.0dev,>=1.33.2 in /usr/local/lib/python3.11/dist-packages (from google-api-core[grpc]!=2.0.*,!=2.1.*,!=2.10.*,!=2.2.*,!=2.3.*,!=2.4.*,!=2.5.*,!=2.6.*,!=2.7.*,!=2.8.*,!=2.9.*,<3.0.0dev,>=1.34.1->google-ai-generativelanguage==0.6.15->google-generativeai) (1.70.0)\r\n",
      "Requirement already satisfied: grpcio-status<2.0dev,>=1.33.2 in /usr/local/lib/python3.11/dist-packages (from google-api-core[grpc]!=2.0.*,!=2.1.*,!=2.10.*,!=2.2.*,!=2.3.*,!=2.4.*,!=2.5.*,!=2.6.*,!=2.7.*,!=2.8.*,!=2.9.*,<3.0.0dev,>=1.34.1->google-ai-generativelanguage==0.6.15->google-generativeai) (1.48.2)\r\n",
      "Requirement already satisfied: charset-normalizer<4,>=2 in /usr/local/lib/python3.11/dist-packages (from requests<3.0.0dev,>=2.18.0->google-api-core->google-generativeai) (3.4.1)\r\n",
      "Requirement already satisfied: idna<4,>=2.5 in /usr/local/lib/python3.11/dist-packages (from requests<3.0.0dev,>=2.18.0->google-api-core->google-generativeai) (3.10)\r\n",
      "Requirement already satisfied: urllib3<3,>=1.21.1 in /usr/local/lib/python3.11/dist-packages (from requests<3.0.0dev,>=2.18.0->google-api-core->google-generativeai) (2.3.0)\r\n",
      "Requirement already satisfied: certifi>=2017.4.17 in /usr/local/lib/python3.11/dist-packages (from requests<3.0.0dev,>=2.18.0->google-api-core->google-generativeai) (2025.1.31)\r\n",
      "Downloading google_auth-2.39.0-py2.py3-none-any.whl (212 kB)\r\n",
      "\u001b[2K   \u001b[90m━━━━━━━━━━━━━━━━━━━━━━━━━━━━━━━━━━━━━━━━\u001b[0m \u001b[32m212.3/212.3 kB\u001b[0m \u001b[31m4.5 MB/s\u001b[0m eta \u001b[36m0:00:00\u001b[0m\r\n",
      "\u001b[?25hDownloading google_api_python_client-2.167.0-py2.py3-none-any.whl (13.2 MB)\r\n",
      "\u001b[2K   \u001b[90m━━━━━━━━━━━━━━━━━━━━━━━━━━━━━━━━━━━━━━━━\u001b[0m \u001b[32m13.2/13.2 MB\u001b[0m \u001b[31m84.7 MB/s\u001b[0m eta \u001b[36m0:00:00\u001b[0m\r\n",
      "\u001b[?25hInstalling collected packages: google-auth, google-api-python-client\r\n",
      "  Attempting uninstall: google-auth\r\n",
      "    Found existing installation: google-auth 2.27.0\r\n",
      "    Uninstalling google-auth-2.27.0:\r\n",
      "      Successfully uninstalled google-auth-2.27.0\r\n",
      "  Attempting uninstall: google-api-python-client\r\n",
      "    Found existing installation: google-api-python-client 2.160.0\r\n",
      "    Uninstalling google-api-python-client-2.160.0:\r\n",
      "      Successfully uninstalled google-api-python-client-2.160.0\r\n",
      "\u001b[31mERROR: pip's dependency resolver does not currently take into account all the packages that are installed. This behaviour is the source of the following dependency conflicts.\r\n",
      "pandas-gbq 0.26.1 requires google-cloud-bigquery<4.0.0dev,>=3.4.2, which is not installed.\r\n",
      "bigframes 1.36.0 requires google-cloud-bigquery[bqstorage,pandas]>=3.18.0, which is not installed.\r\n",
      "bigquery-magics 0.5.0 requires google-cloud-bigquery<4.0.0dev,>=3.13.0, which is not installed.\r\n",
      "google-cloud-aiplatform 1.79.0 requires google-cloud-bigquery!=3.20.0,<4.0.0dev,>=1.15.0, which is not installed.\r\n",
      "google-colab 1.0.0 requires google-auth==2.27.0, but you have google-auth 2.39.0 which is incompatible.\r\n",
      "google-colab 1.0.0 requires notebook==6.5.5, but you have notebook 6.5.4 which is incompatible.\r\n",
      "google-colab 1.0.0 requires pandas==2.2.2, but you have pandas 2.2.3 which is incompatible.\r\n",
      "google-spark-connect 0.5.2 requires google-api-core>=2.19.1, but you have google-api-core 1.34.1 which is incompatible.\r\n",
      "pandas-gbq 0.26.1 requires google-api-core<3.0.0dev,>=2.10.2, but you have google-api-core 1.34.1 which is incompatible.\r\n",
      "gcsfs 2024.10.0 requires fsspec==2024.10.0, but you have fsspec 2025.3.2 which is incompatible.\r\n",
      "bigframes 1.36.0 requires rich<14,>=12.4.4, but you have rich 14.0.0 which is incompatible.\r\n",
      "pydrive2 1.21.3 requires cryptography<44, but you have cryptography 44.0.2 which is incompatible.\r\n",
      "pydrive2 1.21.3 requires pyOpenSSL<=24.2.1,>=19.1.0, but you have pyopenssl 25.0.0 which is incompatible.\r\n",
      "google-cloud-bigtable 2.28.1 requires google-api-core[grpc]<3.0.0dev,>=2.16.0, but you have google-api-core 1.34.1 which is incompatible.\u001b[0m\u001b[31m\r\n",
      "\u001b[0mSuccessfully installed google-api-python-client-2.167.0 google-auth-2.39.0\r\n",
      "Note: you may need to restart the kernel to use updated packages.\n"
     ]
    }
   ],
   "source": [
    "pip install --upgrade google-generativeai google-auth google-api-python-client"
   ]
  },
  {
   "cell_type": "code",
   "execution_count": 4,
   "id": "c8cbf47e",
   "metadata": {
    "execution": {
     "iopub.execute_input": "2025-04-21T00:34:53.991236Z",
     "iopub.status.busy": "2025-04-21T00:34:53.990873Z",
     "iopub.status.idle": "2025-04-21T00:34:57.132669Z",
     "shell.execute_reply": "2025-04-21T00:34:57.131774Z"
    },
    "papermill": {
     "duration": 3.163808,
     "end_time": "2025-04-21T00:34:57.134566",
     "exception": false,
     "start_time": "2025-04-21T00:34:53.970758",
     "status": "completed"
    },
    "tags": []
   },
   "outputs": [
    {
     "name": "stderr",
     "output_type": "stream",
     "text": [
      "/usr/local/lib/python3.11/dist-packages/pydantic/_internal/_generate_schema.py:623: UserWarning: <built-in function any> is not a Python type (it may be an instance of an object), Pydantic will allow any object with no validation since we cannot even enforce that the input is an instance of the given type. To get rid of this error wrap the type with `pydantic.SkipValidation`.\n",
      "  warn(\n"
     ]
    }
   ],
   "source": [
    "from google import genai\n",
    "import google.generativeai as genai\n",
    "from google.generativeai.types import GenerationConfig"
   ]
  },
  {
   "cell_type": "code",
   "execution_count": 5,
   "id": "4e64353f",
   "metadata": {
    "execution": {
     "iopub.execute_input": "2025-04-21T00:34:57.172809Z",
     "iopub.status.busy": "2025-04-21T00:34:57.171838Z",
     "iopub.status.idle": "2025-04-21T00:34:57.258118Z",
     "shell.execute_reply": "2025-04-21T00:34:57.257103Z"
    },
    "papermill": {
     "duration": 0.107102,
     "end_time": "2025-04-21T00:34:57.259911",
     "exception": false,
     "start_time": "2025-04-21T00:34:57.152809",
     "status": "completed"
    },
    "tags": []
   },
   "outputs": [],
   "source": [
    "#Configure Gemini\n",
    "\n",
    "from kaggle_secrets import UserSecretsClient\n",
    "user_secrets = UserSecretsClient()\n",
    "GOOGLE_API_KEY = user_secrets.get_secret(\"GOOGLE_API_KEY\")\n",
    "\n",
    "\n",
    "# Configure with the latest API\n",
    "genai.configure(api_key=GOOGLE_API_KEY)"
   ]
  },
  {
   "cell_type": "code",
   "execution_count": 6,
   "id": "333f266b",
   "metadata": {
    "execution": {
     "iopub.execute_input": "2025-04-21T00:34:57.297345Z",
     "iopub.status.busy": "2025-04-21T00:34:57.297034Z",
     "iopub.status.idle": "2025-04-21T00:34:59.286639Z",
     "shell.execute_reply": "2025-04-21T00:34:59.285551Z"
    },
    "papermill": {
     "duration": 2.011243,
     "end_time": "2025-04-21T00:34:59.288941",
     "exception": false,
     "start_time": "2025-04-21T00:34:57.277698",
     "status": "completed"
    },
    "tags": []
   },
   "outputs": [],
   "source": [
    "import os\n",
    "import re\n",
    "import pandas as pd\n",
    "import json\n",
    "import faiss\n",
    "import numpy as np\n",
    "from typing import List, Dict, Optional"
   ]
  },
  {
   "cell_type": "code",
   "execution_count": 7,
   "id": "76e3318c",
   "metadata": {
    "execution": {
     "iopub.execute_input": "2025-04-21T00:34:59.328769Z",
     "iopub.status.busy": "2025-04-21T00:34:59.328205Z",
     "iopub.status.idle": "2025-04-21T00:34:59.733666Z",
     "shell.execute_reply": "2025-04-21T00:34:59.732501Z"
    },
    "papermill": {
     "duration": 0.427602,
     "end_time": "2025-04-21T00:34:59.735397",
     "exception": false,
     "start_time": "2025-04-21T00:34:59.307795",
     "status": "completed"
    },
    "tags": []
   },
   "outputs": [
    {
     "name": "stdout",
     "output_type": "stream",
     "text": [
      "Available models:\n",
      "- models/gemini-1.0-pro-vision-latest\n",
      "- models/gemini-pro-vision\n",
      "- models/gemini-1.5-pro-latest\n",
      "- models/gemini-1.5-pro-001\n",
      "- models/gemini-1.5-pro-002\n",
      "- models/gemini-1.5-pro\n",
      "- models/gemini-1.5-flash-latest\n",
      "- models/gemini-1.5-flash-001\n",
      "- models/gemini-1.5-flash-001-tuning\n",
      "- models/gemini-1.5-flash\n",
      "- models/gemini-1.5-flash-002\n",
      "- models/gemini-1.5-flash-8b\n",
      "- models/gemini-1.5-flash-8b-001\n",
      "- models/gemini-1.5-flash-8b-latest\n",
      "- models/gemini-1.5-flash-8b-exp-0827\n",
      "- models/gemini-1.5-flash-8b-exp-0924\n",
      "- models/gemini-2.5-pro-exp-03-25\n",
      "- models/gemini-2.5-pro-preview-03-25\n",
      "- models/gemini-2.5-flash-preview-04-17\n",
      "- models/gemini-2.0-flash-exp\n",
      "- models/gemini-2.0-flash\n",
      "- models/gemini-2.0-flash-001\n",
      "- models/gemini-2.0-flash-exp-image-generation\n",
      "- models/gemini-2.0-flash-lite-001\n",
      "- models/gemini-2.0-flash-lite\n",
      "- models/gemini-2.0-flash-lite-preview-02-05\n",
      "- models/gemini-2.0-flash-lite-preview\n",
      "- models/gemini-2.0-pro-exp\n",
      "- models/gemini-2.0-pro-exp-02-05\n",
      "- models/gemini-exp-1206\n",
      "- models/gemini-2.0-flash-thinking-exp-01-21\n",
      "- models/gemini-2.0-flash-thinking-exp\n",
      "- models/gemini-2.0-flash-thinking-exp-1219\n",
      "- models/learnlm-1.5-pro-experimental\n",
      "- models/learnlm-2.0-flash-experimental\n",
      "- models/gemma-3-1b-it\n",
      "- models/gemma-3-4b-it\n",
      "- models/gemma-3-12b-it\n",
      "- models/gemma-3-27b-it\n"
     ]
    }
   ],
   "source": [
    "# Verify available models\n",
    "print(\"Available models:\")\n",
    "for m in genai.list_models():\n",
    "    if 'generateContent' in m.supported_generation_methods:\n",
    "        print(f\"- {m.name}\")"
   ]
  },
  {
   "cell_type": "markdown",
   "id": "c71fbe8e",
   "metadata": {
    "papermill": {
     "duration": 0.019529,
     "end_time": "2025-04-21T00:34:59.773642",
     "exception": false,
     "start_time": "2025-04-21T00:34:59.754113",
     "status": "completed"
    },
    "tags": []
   },
   "source": [
    "## Dataset loading and Pre-processing"
   ]
  },
  {
   "cell_type": "code",
   "execution_count": 8,
   "id": "319721b4",
   "metadata": {
    "execution": {
     "iopub.execute_input": "2025-04-21T00:34:59.818666Z",
     "iopub.status.busy": "2025-04-21T00:34:59.818364Z",
     "iopub.status.idle": "2025-04-21T00:35:00.105861Z",
     "shell.execute_reply": "2025-04-21T00:35:00.104825Z"
    },
    "papermill": {
     "duration": 0.308761,
     "end_time": "2025-04-21T00:35:00.107653",
     "exception": false,
     "start_time": "2025-04-21T00:34:59.798892",
     "status": "completed"
    },
    "tags": []
   },
   "outputs": [],
   "source": [
    "# Extract the recipe dataset into a dataframe\n",
    "import pandas as pd\n",
    "df = pd.read_csv('/kaggle/input/recipes-dataset/recipes.csv')"
   ]
  },
  {
   "cell_type": "code",
   "execution_count": 9,
   "id": "277c5890",
   "metadata": {
    "execution": {
     "iopub.execute_input": "2025-04-21T00:35:00.216169Z",
     "iopub.status.busy": "2025-04-21T00:35:00.215856Z",
     "iopub.status.idle": "2025-04-21T00:35:00.223587Z",
     "shell.execute_reply": "2025-04-21T00:35:00.222279Z"
    },
    "papermill": {
     "duration": 0.098888,
     "end_time": "2025-04-21T00:35:00.225306",
     "exception": false,
     "start_time": "2025-04-21T00:35:00.126418",
     "status": "completed"
    },
    "tags": []
   },
   "outputs": [
    {
     "name": "stdout",
     "output_type": "stream",
     "text": [
      "/kaggle/input/recipes-dataset/recipes.csv\n"
     ]
    }
   ],
   "source": [
    "for dirname, _, filenames in os.walk('/kaggle/input'):\n",
    "    for filename in filenames:\n",
    "        print(os.path.join(dirname, filename))"
   ]
  },
  {
   "cell_type": "code",
   "execution_count": 10,
   "id": "95fbe24d",
   "metadata": {
    "execution": {
     "iopub.execute_input": "2025-04-21T00:35:00.264494Z",
     "iopub.status.busy": "2025-04-21T00:35:00.263356Z",
     "iopub.status.idle": "2025-04-21T00:35:00.292793Z",
     "shell.execute_reply": "2025-04-21T00:35:00.291775Z"
    },
    "papermill": {
     "duration": 0.050509,
     "end_time": "2025-04-21T00:35:00.294306",
     "exception": false,
     "start_time": "2025-04-21T00:35:00.243797",
     "status": "completed"
    },
    "tags": []
   },
   "outputs": [
    {
     "data": {
      "text/html": [
       "<div>\n",
       "<style scoped>\n",
       "    .dataframe tbody tr th:only-of-type {\n",
       "        vertical-align: middle;\n",
       "    }\n",
       "\n",
       "    .dataframe tbody tr th {\n",
       "        vertical-align: top;\n",
       "    }\n",
       "\n",
       "    .dataframe thead th {\n",
       "        text-align: right;\n",
       "    }\n",
       "</style>\n",
       "<table border=\"1\" class=\"dataframe\">\n",
       "  <thead>\n",
       "    <tr style=\"text-align: right;\">\n",
       "      <th></th>\n",
       "      <th>title</th>\n",
       "      <th>ingredients</th>\n",
       "      <th>instructions</th>\n",
       "      <th>cuisine</th>\n",
       "      <th>TotalTimeInMins</th>\n",
       "      <th>url</th>\n",
       "    </tr>\n",
       "  </thead>\n",
       "  <tbody>\n",
       "    <tr>\n",
       "      <th>0</th>\n",
       "      <td>Masala Karela Recipe</td>\n",
       "      <td>salt,amchur (dry mango powder),karela (bitter ...</td>\n",
       "      <td>To begin making the Masala Karela Recipe,de-se...</td>\n",
       "      <td>Indian</td>\n",
       "      <td>45</td>\n",
       "      <td>https://www.archanaskitchen.com/masala-karela-...</td>\n",
       "    </tr>\n",
       "    <tr>\n",
       "      <th>1</th>\n",
       "      <td>Spicy Tomato Rice (Recipe)</td>\n",
       "      <td>tomato,salt,chickpea lentils,green chilli,rice...</td>\n",
       "      <td>To make tomato puliogere, first cut the tomato...</td>\n",
       "      <td>South Indian Recipes</td>\n",
       "      <td>15</td>\n",
       "      <td>https://www.archanaskitchen.com/spicy-tomato-r...</td>\n",
       "    </tr>\n",
       "    <tr>\n",
       "      <th>2</th>\n",
       "      <td>Ragi Semiya Upma Recipe - Ragi Millet Vermicel...</td>\n",
       "      <td>salt,rice vermicelli noodles (thin),asafoetida...</td>\n",
       "      <td>To begin making the Ragi Vermicelli Recipe, fi...</td>\n",
       "      <td>South Indian Recipes</td>\n",
       "      <td>50</td>\n",
       "      <td>https://www.archanaskitchen.com/ragi-vermicell...</td>\n",
       "    </tr>\n",
       "    <tr>\n",
       "      <th>3</th>\n",
       "      <td>Gongura Chicken Curry Recipe - Andhra Style Go...</td>\n",
       "      <td>tomato,salt,ginger,sorrel leaves (gongura),fen...</td>\n",
       "      <td>To begin making Gongura Chicken Curry Recipe f...</td>\n",
       "      <td>Andhra</td>\n",
       "      <td>45</td>\n",
       "      <td>https://www.archanaskitchen.com/gongura-chicke...</td>\n",
       "    </tr>\n",
       "    <tr>\n",
       "      <th>4</th>\n",
       "      <td>Andhra Style Alam Pachadi Recipe - Adrak Chutn...</td>\n",
       "      <td>tomato,salt,ginger,red chillies,curry,asafoeti...</td>\n",
       "      <td>To make Andhra Style Alam Pachadi, first heat ...</td>\n",
       "      <td>Andhra</td>\n",
       "      <td>30</td>\n",
       "      <td>https://www.archanaskitchen.com/andhra-style-a...</td>\n",
       "    </tr>\n",
       "    <tr>\n",
       "      <th>5</th>\n",
       "      <td>Pudina Khara Pongal Recipe (Rice and Lentils C...</td>\n",
       "      <td>cashew nuts,salt,yellow moong dal (split),ging...</td>\n",
       "      <td>To begin making Pudina Khara Pongal Recipe, wa...</td>\n",
       "      <td>South Indian Recipes</td>\n",
       "      <td>30</td>\n",
       "      <td>https://www.archanaskitchen.com/pudina-khara-p...</td>\n",
       "    </tr>\n",
       "    <tr>\n",
       "      <th>6</th>\n",
       "      <td>Udupi Style Ash Gourd Coconut Curry Recipe</td>\n",
       "      <td>salt,tamarind water,coconut,mustard seeds,jagg...</td>\n",
       "      <td>To begin making the Udupi Style Ash Gourd Coco...</td>\n",
       "      <td>Udupi</td>\n",
       "      <td>40</td>\n",
       "      <td>https://www.archanaskitchen.com/udupi-style-as...</td>\n",
       "    </tr>\n",
       "    <tr>\n",
       "      <th>7</th>\n",
       "      <td>Mexican Style Black Bean Burrito Recipe</td>\n",
       "      <td>tomato,spring onion greens,hung curd (greek yo...</td>\n",
       "      <td>To begin making the Black Bean Burrito recipe,...</td>\n",
       "      <td>Mexican</td>\n",
       "      <td>40</td>\n",
       "      <td>https://www.archanaskitchen.com/black-bean-bur...</td>\n",
       "    </tr>\n",
       "    <tr>\n",
       "      <th>8</th>\n",
       "      <td>Spicy Crunchy Masala Idli Recipe</td>\n",
       "      <td>tomato,salt,coriander (dhania) leaves,idli,red...</td>\n",
       "      <td>To prepare Spicy Crunchy Masala Idli Recipe, H...</td>\n",
       "      <td>South Indian Recipes</td>\n",
       "      <td>30</td>\n",
       "      <td>https://www.archanaskitchen.com/spicy-crunchy-...</td>\n",
       "    </tr>\n",
       "    <tr>\n",
       "      <th>9</th>\n",
       "      <td>Cauliflower Leaves Chutney (Recipe in Hindi)</td>\n",
       "      <td>tomato,salt,turmeric powder,red chillies,spoon...</td>\n",
       "      <td>To make cauliflower leaf chutney, first of all...</td>\n",
       "      <td>South Indian Recipes</td>\n",
       "      <td>25</td>\n",
       "      <td>https://www.archanaskitchen.com/cauliflower-le...</td>\n",
       "    </tr>\n",
       "    <tr>\n",
       "      <th>10</th>\n",
       "      <td>Homemade Baked Beans Recipe (Wholesome &amp; Healthy)</td>\n",
       "      <td>tomato,salt,cumin powder (jeera),pepper ( pepp...</td>\n",
       "      <td>To begin making the homemade baked beans recip...</td>\n",
       "      <td>Fusion</td>\n",
       "      <td>120</td>\n",
       "      <td>https://www.archanaskitchen.com/homemade-baked...</td>\n",
       "    </tr>\n",
       "    <tr>\n",
       "      <th>11</th>\n",
       "      <td>Veg Chili Cheese Burgers Recipe</td>\n",
       "      <td>cheese,salt,burger buns,potato (aloo) pressure...</td>\n",
       "      <td>To begin making the Veg Chili Cheese Burgers R...</td>\n",
       "      <td>Continental</td>\n",
       "      <td>55</td>\n",
       "      <td>https://www.archanaskitchen.com/veg-chili-chee...</td>\n",
       "    </tr>\n",
       "    <tr>\n",
       "      <th>12</th>\n",
       "      <td>Andhra Steel Ingavu Charu Recipe - Asfoitida F...</td>\n",
       "      <td>salt,arhar dal (split toor dal),tamarind water...</td>\n",
       "      <td>To begin making the Andhra Style Ingavu Chaaru...</td>\n",
       "      <td>Andhra</td>\n",
       "      <td>30</td>\n",
       "      <td>https://www.archanaskitchen.com/andhra-style-i...</td>\n",
       "    </tr>\n",
       "    <tr>\n",
       "      <th>13</th>\n",
       "      <td>And fish soup recipe - Bengali style fish in t...</td>\n",
       "      <td>tomato,salt,cumin powder (jeera),coriander pow...</td>\n",
       "      <td>To begin making the Aar Macher Jhol Recipe, fi...</td>\n",
       "      <td>Bengali Recipes</td>\n",
       "      <td>20</td>\n",
       "      <td>https://www.archanaskitchen.com/aar-macher-jho...</td>\n",
       "    </tr>\n",
       "    <tr>\n",
       "      <th>14</th>\n",
       "      <td>Saunf Aloo (Fennel Potato Curry) Recipe</td>\n",
       "      <td>fennel seeds (saunf),potato (aloo) skin,milk,r...</td>\n",
       "      <td>To begin with Saunf Aloo, heat oil in a pressu...</td>\n",
       "      <td>Punjabi</td>\n",
       "      <td>25</td>\n",
       "      <td>https://www.archanaskitchen.com/saunf-aloo-fen...</td>\n",
       "    </tr>\n",
       "    <tr>\n",
       "      <th>15</th>\n",
       "      <td>South Indian Onion Chutney Recipe - South Indi...</td>\n",
       "      <td>salt,rye,jaggery,black urad dal (split),curry ...</td>\n",
       "      <td>To make South Indian Onion Chutney, first of a...</td>\n",
       "      <td>South Indian Recipes</td>\n",
       "      <td>40</td>\n",
       "      <td>https://www.archanaskitchen.com/south-indian-o...</td>\n",
       "    </tr>\n",
       "    <tr>\n",
       "      <th>16</th>\n",
       "      <td>Hariyali Egg Curry Recipe In Coriander and Min...</td>\n",
       "      <td>green chillies,ginger,bay leaf (tej patta),cor...</td>\n",
       "      <td>To begin making the Hariyali Egg Curry recipe,...</td>\n",
       "      <td>Indian</td>\n",
       "      <td>35</td>\n",
       "      <td>https://www.archanaskitchen.com/hariyali-egg-c...</td>\n",
       "    </tr>\n",
       "    <tr>\n",
       "      <th>17</th>\n",
       "      <td>Gourd Raita Recipe - Grated Bottle Gourd Yogur...</td>\n",
       "      <td>coriander (dhania) leaves,cucumber grind,salt,...</td>\n",
       "      <td>To prepare gourd raita, prepare all the ingred...</td>\n",
       "      <td>Indian</td>\n",
       "      <td>30</td>\n",
       "      <td>https://www.archanaskitchen.com/grated-bottle-...</td>\n",
       "    </tr>\n",
       "    <tr>\n",
       "      <th>18</th>\n",
       "      <td>Homemade Tater Tots Recipe</td>\n",
       "      <td>salt,rice flour,coriander (dhania) leaves,onio...</td>\n",
       "      <td>To begin making the Homemade Tater Tots Recipe...</td>\n",
       "      <td>Continental</td>\n",
       "      <td>60</td>\n",
       "      <td>https://www.archanaskitchen.com/homemade-tater...</td>\n",
       "    </tr>\n",
       "    <tr>\n",
       "      <th>19</th>\n",
       "      <td>Chettinad Vegetable Casserole Recipe - Chettin...</td>\n",
       "      <td>turmeric powder,ginger,rice,ghee,cinnamon,fenn...</td>\n",
       "      <td>To make Chettinad vegetable casserole, first c...</td>\n",
       "      <td>Chettinad</td>\n",
       "      <td>60</td>\n",
       "      <td>https://www.archanaskitchen.com/chettinad-vege...</td>\n",
       "    </tr>\n",
       "  </tbody>\n",
       "</table>\n",
       "</div>"
      ],
      "text/plain": [
       "                                                title  \\\n",
       "0                                Masala Karela Recipe   \n",
       "1                          Spicy Tomato Rice (Recipe)   \n",
       "2   Ragi Semiya Upma Recipe - Ragi Millet Vermicel...   \n",
       "3   Gongura Chicken Curry Recipe - Andhra Style Go...   \n",
       "4   Andhra Style Alam Pachadi Recipe - Adrak Chutn...   \n",
       "5   Pudina Khara Pongal Recipe (Rice and Lentils C...   \n",
       "6          Udupi Style Ash Gourd Coconut Curry Recipe   \n",
       "7             Mexican Style Black Bean Burrito Recipe   \n",
       "8                    Spicy Crunchy Masala Idli Recipe   \n",
       "9        Cauliflower Leaves Chutney (Recipe in Hindi)   \n",
       "10  Homemade Baked Beans Recipe (Wholesome & Healthy)   \n",
       "11                    Veg Chili Cheese Burgers Recipe   \n",
       "12  Andhra Steel Ingavu Charu Recipe - Asfoitida F...   \n",
       "13  And fish soup recipe - Bengali style fish in t...   \n",
       "14            Saunf Aloo (Fennel Potato Curry) Recipe   \n",
       "15  South Indian Onion Chutney Recipe - South Indi...   \n",
       "16  Hariyali Egg Curry Recipe In Coriander and Min...   \n",
       "17  Gourd Raita Recipe - Grated Bottle Gourd Yogur...   \n",
       "18                         Homemade Tater Tots Recipe   \n",
       "19  Chettinad Vegetable Casserole Recipe - Chettin...   \n",
       "\n",
       "                                          ingredients  \\\n",
       "0   salt,amchur (dry mango powder),karela (bitter ...   \n",
       "1   tomato,salt,chickpea lentils,green chilli,rice...   \n",
       "2   salt,rice vermicelli noodles (thin),asafoetida...   \n",
       "3   tomato,salt,ginger,sorrel leaves (gongura),fen...   \n",
       "4   tomato,salt,ginger,red chillies,curry,asafoeti...   \n",
       "5   cashew nuts,salt,yellow moong dal (split),ging...   \n",
       "6   salt,tamarind water,coconut,mustard seeds,jagg...   \n",
       "7   tomato,spring onion greens,hung curd (greek yo...   \n",
       "8   tomato,salt,coriander (dhania) leaves,idli,red...   \n",
       "9   tomato,salt,turmeric powder,red chillies,spoon...   \n",
       "10  tomato,salt,cumin powder (jeera),pepper ( pepp...   \n",
       "11  cheese,salt,burger buns,potato (aloo) pressure...   \n",
       "12  salt,arhar dal (split toor dal),tamarind water...   \n",
       "13  tomato,salt,cumin powder (jeera),coriander pow...   \n",
       "14  fennel seeds (saunf),potato (aloo) skin,milk,r...   \n",
       "15  salt,rye,jaggery,black urad dal (split),curry ...   \n",
       "16  green chillies,ginger,bay leaf (tej patta),cor...   \n",
       "17  coriander (dhania) leaves,cucumber grind,salt,...   \n",
       "18  salt,rice flour,coriander (dhania) leaves,onio...   \n",
       "19  turmeric powder,ginger,rice,ghee,cinnamon,fenn...   \n",
       "\n",
       "                                         instructions               cuisine  \\\n",
       "0   To begin making the Masala Karela Recipe,de-se...                Indian   \n",
       "1   To make tomato puliogere, first cut the tomato...  South Indian Recipes   \n",
       "2   To begin making the Ragi Vermicelli Recipe, fi...  South Indian Recipes   \n",
       "3   To begin making Gongura Chicken Curry Recipe f...                Andhra   \n",
       "4   To make Andhra Style Alam Pachadi, first heat ...                Andhra   \n",
       "5   To begin making Pudina Khara Pongal Recipe, wa...  South Indian Recipes   \n",
       "6   To begin making the Udupi Style Ash Gourd Coco...                 Udupi   \n",
       "7   To begin making the Black Bean Burrito recipe,...               Mexican   \n",
       "8   To prepare Spicy Crunchy Masala Idli Recipe, H...  South Indian Recipes   \n",
       "9   To make cauliflower leaf chutney, first of all...  South Indian Recipes   \n",
       "10  To begin making the homemade baked beans recip...                Fusion   \n",
       "11  To begin making the Veg Chili Cheese Burgers R...           Continental   \n",
       "12  To begin making the Andhra Style Ingavu Chaaru...                Andhra   \n",
       "13  To begin making the Aar Macher Jhol Recipe, fi...       Bengali Recipes   \n",
       "14  To begin with Saunf Aloo, heat oil in a pressu...               Punjabi   \n",
       "15  To make South Indian Onion Chutney, first of a...  South Indian Recipes   \n",
       "16  To begin making the Hariyali Egg Curry recipe,...                Indian   \n",
       "17  To prepare gourd raita, prepare all the ingred...                Indian   \n",
       "18  To begin making the Homemade Tater Tots Recipe...           Continental   \n",
       "19  To make Chettinad vegetable casserole, first c...             Chettinad   \n",
       "\n",
       "    TotalTimeInMins                                                url  \n",
       "0                45  https://www.archanaskitchen.com/masala-karela-...  \n",
       "1                15  https://www.archanaskitchen.com/spicy-tomato-r...  \n",
       "2                50  https://www.archanaskitchen.com/ragi-vermicell...  \n",
       "3                45  https://www.archanaskitchen.com/gongura-chicke...  \n",
       "4                30  https://www.archanaskitchen.com/andhra-style-a...  \n",
       "5                30  https://www.archanaskitchen.com/pudina-khara-p...  \n",
       "6                40  https://www.archanaskitchen.com/udupi-style-as...  \n",
       "7                40  https://www.archanaskitchen.com/black-bean-bur...  \n",
       "8                30  https://www.archanaskitchen.com/spicy-crunchy-...  \n",
       "9                25  https://www.archanaskitchen.com/cauliflower-le...  \n",
       "10              120  https://www.archanaskitchen.com/homemade-baked...  \n",
       "11               55  https://www.archanaskitchen.com/veg-chili-chee...  \n",
       "12               30  https://www.archanaskitchen.com/andhra-style-i...  \n",
       "13               20  https://www.archanaskitchen.com/aar-macher-jho...  \n",
       "14               25  https://www.archanaskitchen.com/saunf-aloo-fen...  \n",
       "15               40  https://www.archanaskitchen.com/south-indian-o...  \n",
       "16               35  https://www.archanaskitchen.com/hariyali-egg-c...  \n",
       "17               30  https://www.archanaskitchen.com/grated-bottle-...  \n",
       "18               60  https://www.archanaskitchen.com/homemade-tater...  \n",
       "19               60  https://www.archanaskitchen.com/chettinad-vege...  "
      ]
     },
     "execution_count": 10,
     "metadata": {},
     "output_type": "execute_result"
    }
   ],
   "source": [
    "df.head(20)"
   ]
  },
  {
   "cell_type": "code",
   "execution_count": 11,
   "id": "8a009774",
   "metadata": {
    "execution": {
     "iopub.execute_input": "2025-04-21T00:35:00.336616Z",
     "iopub.status.busy": "2025-04-21T00:35:00.336280Z",
     "iopub.status.idle": "2025-04-21T00:35:00.346180Z",
     "shell.execute_reply": "2025-04-21T00:35:00.344996Z"
    },
    "papermill": {
     "duration": 0.032899,
     "end_time": "2025-04-21T00:35:00.347890",
     "exception": false,
     "start_time": "2025-04-21T00:35:00.314991",
     "status": "completed"
    },
    "tags": []
   },
   "outputs": [],
   "source": [
    "df = df.rename(columns={\n",
    "'title' : 'RecipeName',\n",
    "'ingredients' : 'Ingredients',\n",
    "'instructions' : 'Instructions',\n",
    "'cuisine' : 'Cuisine',\n",
    "'url' : 'RecipeURL'\n",
    "})"
   ]
  },
  {
   "cell_type": "code",
   "execution_count": 12,
   "id": "e3d3d6a1",
   "metadata": {
    "execution": {
     "iopub.execute_input": "2025-04-21T00:35:00.390513Z",
     "iopub.status.busy": "2025-04-21T00:35:00.390204Z",
     "iopub.status.idle": "2025-04-21T00:35:00.396806Z",
     "shell.execute_reply": "2025-04-21T00:35:00.395830Z"
    },
    "papermill": {
     "duration": 0.030071,
     "end_time": "2025-04-21T00:35:00.398473",
     "exception": false,
     "start_time": "2025-04-21T00:35:00.368402",
     "status": "completed"
    },
    "tags": []
   },
   "outputs": [
    {
     "data": {
      "text/plain": [
       "['RecipeName',\n",
       " 'Ingredients',\n",
       " 'Instructions',\n",
       " 'Cuisine',\n",
       " 'TotalTimeInMins',\n",
       " 'RecipeURL']"
      ]
     },
     "execution_count": 12,
     "metadata": {},
     "output_type": "execute_result"
    }
   ],
   "source": [
    "list(df.columns)"
   ]
  },
  {
   "cell_type": "code",
   "execution_count": 13,
   "id": "840fedfb",
   "metadata": {
    "execution": {
     "iopub.execute_input": "2025-04-21T00:35:00.439410Z",
     "iopub.status.busy": "2025-04-21T00:35:00.439079Z",
     "iopub.status.idle": "2025-04-21T00:35:00.446897Z",
     "shell.execute_reply": "2025-04-21T00:35:00.445531Z"
    },
    "papermill": {
     "duration": 0.030216,
     "end_time": "2025-04-21T00:35:00.448463",
     "exception": false,
     "start_time": "2025-04-21T00:35:00.418247",
     "status": "completed"
    },
    "tags": []
   },
   "outputs": [
    {
     "name": "stdout",
     "output_type": "stream",
     "text": [
      "       Column Name                               Description\n",
      "0       RecipeName                        Name of the recipe\n",
      "1      Ingredients    List of ingredients to make the recipe\n",
      "2     Instructions           Instructions to make the recipe\n",
      "3          Cuisine                              Cuisine type\n",
      "4  TotalTimeInMins  Time taken in minutes to make the recipe\n",
      "5        RecipeURL                        Link to recipe url\n"
     ]
    }
   ],
   "source": [
    "# Contain a one line description of each columns\n",
    "df_desc = pd.DataFrame({\n",
    "    'Column Name': list(df.columns),\n",
    "    'Description': ['Name of the recipe', 'List of ingredients to make the recipe','Instructions to make the recipe','Cuisine type','Time taken in minutes to make the recipe', 'Link to recipe url']\n",
    "})\n",
    "print(df_desc)"
   ]
  },
  {
   "cell_type": "markdown",
   "id": "3e9b7e36",
   "metadata": {
    "papermill": {
     "duration": 0.02108,
     "end_time": "2025-04-21T00:35:00.490668",
     "exception": false,
     "start_time": "2025-04-21T00:35:00.469588",
     "status": "completed"
    },
    "tags": []
   },
   "source": [
    "# Function & Tool Definition"
   ]
  },
  {
   "cell_type": "code",
   "execution_count": 14,
   "id": "68e50f68",
   "metadata": {
    "execution": {
     "iopub.execute_input": "2025-04-21T00:35:00.533315Z",
     "iopub.status.busy": "2025-04-21T00:35:00.533033Z",
     "iopub.status.idle": "2025-04-21T00:35:00.542251Z",
     "shell.execute_reply": "2025-04-21T00:35:00.541243Z"
    },
    "papermill": {
     "duration": 0.03346,
     "end_time": "2025-04-21T00:35:00.544211",
     "exception": false,
     "start_time": "2025-04-21T00:35:00.510751",
     "status": "completed"
    },
    "tags": []
   },
   "outputs": [],
   "source": [
    "import google.generativeai as genai\n",
    "from google.generativeai.types import GenerationConfig\n",
    "import pandas as pd\n",
    "import json\n",
    "\n",
    "\n",
    "# 1. Define actual backend functions\n",
    "def describe_columns(df: pd.DataFrame) -> None:  # Get Column Description\n",
    "    \"\"\"Display column names and their data types\n",
    "    Args: df: Pandas DataFrame containing recipe data\n",
    "    \"\"\"\n",
    "    if df.empty:\n",
    "        print(\"No data available - dataframe is empty\")\n",
    "        return\n",
    "\n",
    "    print(\"\\n Recipe Data Columns:\")\n",
    "    for col in df.columns:\n",
    "        print(f\"- {col} ({df[col].dtype})\")\n",
    "\n",
    "def filter_recipes(df: pd.DataFrame, condition: str, max_results: int =5) -> Optional[str]:\n",
    "    \"\"\"Filters recipes based on condition \"\"\"\n",
    "    try:\n",
    "        if df.empty:\n",
    "            return json.dumps({\"error\": \"No recipe data available\"}, indent=2)\n",
    "            \n",
    "        filtered = df.query(condition)\n",
    "        \n",
    "        if filtered.empty:\n",
    "            return json.dumps({\"message\": \"No recipes match your criteria\"}, indent=2)\n",
    "            \n",
    "        return filtered.head(max_results).to_json(orient=\"records\", indent=2)    \n",
    "    \n",
    "    except Exception as e:\n",
    "        print(f\" Filtering error: {e}\")\n",
    "        return None\n",
    "\n",
    "def filterUniqueValuesOfColumn(df: pd.DataFrame, column:str) -> str:\n",
    "    \"\"\" Get unique values from a column\"\"\"\n",
    "    if column not in df.columns:\n",
    "        return json.dumps({\"error\": f\"Column '{column}' does not exist\"}, indent=4)\n",
    "    unique_values = df[column].drop_duplicates().tolist()  # Get unique values\n",
    "    return json.dumps({\"Unique Values\": unique_values}, indent=4)"
   ]
  },
  {
   "cell_type": "code",
   "execution_count": 15,
   "id": "5aeacf5d",
   "metadata": {
    "execution": {
     "iopub.execute_input": "2025-04-21T00:35:00.586440Z",
     "iopub.status.busy": "2025-04-21T00:35:00.586136Z",
     "iopub.status.idle": "2025-04-21T00:35:00.592521Z",
     "shell.execute_reply": "2025-04-21T00:35:00.591491Z"
    },
    "papermill": {
     "duration": 0.029403,
     "end_time": "2025-04-21T00:35:00.594248",
     "exception": false,
     "start_time": "2025-04-21T00:35:00.564845",
     "status": "completed"
    },
    "tags": []
   },
   "outputs": [],
   "source": [
    "# 2. Define tools with prop schemas\n",
    "db_tools = [\n",
    "   {\n",
    "        \"function_declarations\": [\n",
    "            {\n",
    "                \"name\": \"describe_columns\",\n",
    "                \"description\": \"Lists available columns in the DataFrame\",\n",
    "                \"parameters\": {\"type\": \"object\", \"properties\": {}}\n",
    "            },\n",
    "            {\n",
    "                \"name\": \"filter_recipes\",\n",
    "                \"description\": \"Filters recipes using conditions like 'Cuisine == \\\"Italian\\\" AND TotalTimeInMins < 30'\",\n",
    "                \"parameters\": {\n",
    "                    \"type\": \"object\",\n",
    "                    \"properties\": {\n",
    "                        \"condition\": {\n",
    "                            \"type\": \"string\",\n",
    "                            \"description\": \"Query using columns: RecipeName, Ingredients, Cuisine, TotalTimeInMins\"\n",
    "                        }\n",
    "                    },\n",
    "                    \"required\": [\"condition\"]\n",
    "                }\n",
    "            },\n",
    "            {\n",
    "                \"name\": \"filterUniqueValuesOfColumn\",\n",
    "                \"description\": \"Gets unique values from columns like Cuisine or Ingredients\",\n",
    "                \"parameters\": {\n",
    "                    \"type\": \"object\",\n",
    "                    \"properties\": {\n",
    "                        \"column\": {\n",
    "                            \"type\": \"string\", \n",
    "                            \"description\": \"Column name from: RecipeName, Ingredients, Cuisine, TotalTimeInMins, RecipeURL\"\n",
    "                        }\n",
    "                    },\n",
    "                    \"required\": [\"column\"]\n",
    "                }\n",
    "            }\n",
    "        ]\n",
    "    } \n",
    "]"
   ]
  },
  {
   "cell_type": "code",
   "execution_count": 16,
   "id": "a8be0c98",
   "metadata": {
    "execution": {
     "iopub.execute_input": "2025-04-21T00:35:00.637636Z",
     "iopub.status.busy": "2025-04-21T00:35:00.637323Z",
     "iopub.status.idle": "2025-04-21T00:35:00.642298Z",
     "shell.execute_reply": "2025-04-21T00:35:00.641181Z"
    },
    "papermill": {
     "duration": 0.028335,
     "end_time": "2025-04-21T00:35:00.643960",
     "exception": false,
     "start_time": "2025-04-21T00:35:00.615625",
     "status": "completed"
    },
    "tags": []
   },
   "outputs": [],
   "source": [
    "# 3. Instruction to process to a user related query into set of functions and find relevant info.\n",
    "\n",
    "instruction = \"\"\"You are a helpful recipe assistant working with these columns:\n",
    "- RecipeName: Name of the recipe\n",
    "- Ingredients: List of ingredients\n",
    "- Cuisine: Type of cuisine (e.g., Italian, Mexican)\n",
    "- TotalTimeInMins: Total preparation time in minutes\n",
    "- RecipeURL: Link to full recipe\n",
    "\n",
    "Use these functions to help users:\n",
    "1. describe_columns() → Show available columns\n",
    "2. filter_recipes(condition) → Filter using conditions like \"Cuisine == 'Italian'\"\n",
    "3. filterUniqueValuesOfColumn(column) → Get unique values from specific columns\n",
    "\"\"\""
   ]
  },
  {
   "cell_type": "markdown",
   "id": "5d45f30b",
   "metadata": {
    "papermill": {
     "duration": 0.019512,
     "end_time": "2025-04-21T00:35:00.683216",
     "exception": false,
     "start_time": "2025-04-21T00:35:00.663704",
     "status": "completed"
    },
    "tags": []
   },
   "source": [
    "# Model Initialization and Chat Handling"
   ]
  },
  {
   "cell_type": "code",
   "execution_count": 17,
   "id": "60cb87f5",
   "metadata": {
    "execution": {
     "iopub.execute_input": "2025-04-21T00:35:00.724454Z",
     "iopub.status.busy": "2025-04-21T00:35:00.724139Z",
     "iopub.status.idle": "2025-04-21T00:35:00.730187Z",
     "shell.execute_reply": "2025-04-21T00:35:00.729189Z"
    },
    "papermill": {
     "duration": 0.029387,
     "end_time": "2025-04-21T00:35:00.731908",
     "exception": false,
     "start_time": "2025-04-21T00:35:00.702521",
     "status": "completed"
    },
    "tags": []
   },
   "outputs": [],
   "source": [
    "# 4. Initialize Model\n",
    "\n",
    "model = genai.GenerativeModel(\n",
    "    'gemini-2.0-flash', \n",
    "    system_instruction=instruction, \n",
    "    tools=db_tools,\n",
    "    generation_config=GenerationConfig(\n",
    "        temperature=0.7, \n",
    "        top_p=0.9,\n",
    "        top_k=40\n",
    "    )\n",
    ") \n"
   ]
  },
  {
   "cell_type": "code",
   "execution_count": 18,
   "id": "9b20f76a",
   "metadata": {
    "execution": {
     "iopub.execute_input": "2025-04-21T00:35:00.774080Z",
     "iopub.status.busy": "2025-04-21T00:35:00.773690Z",
     "iopub.status.idle": "2025-04-21T00:35:00.780775Z",
     "shell.execute_reply": "2025-04-21T00:35:00.779772Z"
    },
    "papermill": {
     "duration": 0.030414,
     "end_time": "2025-04-21T00:35:00.782582",
     "exception": false,
     "start_time": "2025-04-21T00:35:00.752168",
     "status": "completed"
    },
    "tags": []
   },
   "outputs": [],
   "source": [
    "# 5. Chat Handling with column name updates\n",
    "def execute_query(query: str):\n",
    "    response = chat.send_message(query)\n",
    "    \n",
    "    if response.candidates and response.candidates[0].content.parts[0].function_call:\n",
    "        function_call = response.candidates[0].content.parts[0].function_call\n",
    "        \n",
    "        if function_call.name == \"describe_columns\":\n",
    "            result = describe_columns(df)\n",
    "        elif function_call.name == \"filter_recipes\":\n",
    "            result = filter_recipes(df, function_call.args[\"condition\"])\n",
    "        elif function_call.name == \"filterUniqueValuesOfColumn\":\n",
    "            result = filterUniqueValuesOfColumn(df, function_call.args[\"column\"])\n",
    "        else:\n",
    "            result = json.dumps({\"error\": \"Unknown function\"})\n",
    "\n",
    "        response = chat.send_message(\n",
    "            genai.protos.Content(\n",
    "                parts=[\n",
    "                    genai.protos.Part(\n",
    "                        function_response=genai.protos.FunctionResponse(\n",
    "                            name=function_call.name,\n",
    "                            response={\"content\": result}\n",
    "                        )\n",
    "                    )\n",
    "                ]\n",
    "            )\n",
    "        )\n",
    "    \n",
    "    return response.text"
   ]
  },
  {
   "cell_type": "markdown",
   "id": "de0529d8",
   "metadata": {
    "papermill": {
     "duration": 0.019443,
     "end_time": "2025-04-21T00:35:00.822940",
     "exception": false,
     "start_time": "2025-04-21T00:35:00.803497",
     "status": "completed"
    },
    "tags": []
   },
   "source": [
    "# Chat Initialization and Sample User Interactions"
   ]
  },
  {
   "cell_type": "code",
   "execution_count": 19,
   "id": "111fa339",
   "metadata": {
    "execution": {
     "iopub.execute_input": "2025-04-21T00:35:00.864193Z",
     "iopub.status.busy": "2025-04-21T00:35:00.863867Z",
     "iopub.status.idle": "2025-04-21T00:35:00.868231Z",
     "shell.execute_reply": "2025-04-21T00:35:00.867225Z"
    },
    "papermill": {
     "duration": 0.027739,
     "end_time": "2025-04-21T00:35:00.870172",
     "exception": false,
     "start_time": "2025-04-21T00:35:00.842433",
     "status": "completed"
    },
    "tags": []
   },
   "outputs": [],
   "source": [
    "# 6. Start chat   \n",
    "chat = model.start_chat()"
   ]
  },
  {
   "cell_type": "code",
   "execution_count": 20,
   "id": "9a91934d",
   "metadata": {
    "execution": {
     "iopub.execute_input": "2025-04-21T00:35:00.913347Z",
     "iopub.status.busy": "2025-04-21T00:35:00.912409Z",
     "iopub.status.idle": "2025-04-21T00:35:01.794274Z",
     "shell.execute_reply": "2025-04-21T00:35:01.792963Z"
    },
    "papermill": {
     "duration": 0.904246,
     "end_time": "2025-04-21T00:35:01.795895",
     "exception": false,
     "start_time": "2025-04-21T00:35:00.891649",
     "status": "completed"
    },
    "tags": []
   },
   "outputs": [
    {
     "name": "stdout",
     "output_type": "stream",
     "text": [
      "Here are 5 cuisines from the database: Indian, Mexican, Italian Recipes, Thai, Chinese.\n"
     ]
    }
   ],
   "source": [
    "# 7a. Example Usage\n",
    "print(execute_query(\"List down 5 different cuisines present in the recipe database\"))"
   ]
  },
  {
   "cell_type": "code",
   "execution_count": 21,
   "id": "466e52ff",
   "metadata": {
    "execution": {
     "iopub.execute_input": "2025-04-21T00:35:01.839617Z",
     "iopub.status.busy": "2025-04-21T00:35:01.839329Z",
     "iopub.status.idle": "2025-04-21T00:35:02.992459Z",
     "shell.execute_reply": "2025-04-21T00:35:02.991425Z"
    },
    "papermill": {
     "duration": 1.177056,
     "end_time": "2025-04-21T00:35:02.994106",
     "exception": false,
     "start_time": "2025-04-21T00:35:01.817050",
     "status": "completed"
    },
    "tags": []
   },
   "outputs": [
    {
     "name": "stdout",
     "output_type": "stream",
     "text": [
      "Yes, I found 5 recipes with South Indian cuisine: Spicy Tomato Rice (Recipe), Ragi Semiya Upma Recipe - Ragi Millet Vermicelli Breakfast, Pudina Khara Pongal Recipe (Rice and Lentils Cooked With Mint Leaves & Mild Spices), Spicy Crunchy Masala Idli Recipe, and Cauliflower Leaves Chutney (Recipe in Hindi).\n"
     ]
    }
   ],
   "source": [
    "# 7b. Example Usage\n",
    "print(execute_query(\"Do you have a recipe that has south indian cuisine\"))"
   ]
  },
  {
   "cell_type": "code",
   "execution_count": 22,
   "id": "9bde4b96",
   "metadata": {
    "execution": {
     "iopub.execute_input": "2025-04-21T00:35:03.038639Z",
     "iopub.status.busy": "2025-04-21T00:35:03.038029Z",
     "iopub.status.idle": "2025-04-21T00:35:04.320013Z",
     "shell.execute_reply": "2025-04-21T00:35:04.318845Z"
    },
    "papermill": {
     "duration": 1.307645,
     "end_time": "2025-04-21T00:35:04.322087",
     "exception": false,
     "start_time": "2025-04-21T00:35:03.014442",
     "status": "completed"
    },
    "tags": []
   },
   "outputs": [
    {
     "name": "stdout",
     "output_type": "stream",
     "text": [
      "Here are 5 Udupi cuisine recipes: Udupi Style Ash Gourd Coconut Curry Recipe, Udupi Style Red Parboiled Rice Sevai Recipe (Red Rice Vermicelli), Padipe Saasmi Recipe - Udupi Style Amaranth Leaves Curry With Coconut & Tamarind, Udupi Red Parboiled Rice Shavige Recipe, and Kottambari Tambuli Recipe - Udupi Style Raw Coriander Kadhi.\n"
     ]
    }
   ],
   "source": [
    "# 7c. Example Usage\n",
    "print(execute_query(\"List any 5 Udipi cuisines\"))"
   ]
  },
  {
   "cell_type": "code",
   "execution_count": 23,
   "id": "3d6c79af",
   "metadata": {
    "execution": {
     "iopub.execute_input": "2025-04-21T00:35:04.367107Z",
     "iopub.status.busy": "2025-04-21T00:35:04.366739Z",
     "iopub.status.idle": "2025-04-21T00:35:06.680809Z",
     "shell.execute_reply": "2025-04-21T00:35:06.679925Z"
    },
    "papermill": {
     "duration": 2.339408,
     "end_time": "2025-04-21T00:35:06.682594",
     "exception": false,
     "start_time": "2025-04-21T00:35:04.343186",
     "status": "completed"
    },
    "tags": []
   },
   "outputs": [
    {
     "name": "stdout",
     "output_type": "stream",
     "text": [
      "Here are the instructions to prepare Udupi Style Ash Gourd Coconut Curry Recipe:\n",
      "\n",
      "To begin making the Udupi Style Ash Gourd Coconut Curry Recipe cook the ash gourd in the pressure cooker with little water, turmeric powder and salt for just 1 whistle.\n",
      "Release the pressure naturally.Soak the tamarind ball in hot water for about 15 minutes, and squeeze and keep the water.Then dry roast the spices and other ingredients for the ground paste in a pan except the coconut.\n",
      "Then grind it along with coconut to a smooth paste.In same pressure cooker which has the ash gourd add the paste and little water and give it stir.\n",
      "Keep the Udupi Ash Gourd Coconut Curry on the medium heat, Adjust the seasoning and texture if required.\n",
      "Once done transfer it in a bowl.For the seasoning, heat oil in a small skillet and add mustard seeds and let it crackle.\n",
      "After the mustard seeds have crackled add the curry leaves and red chillies.\n",
      "Tun off the heat after the red chillies have darkened and add it on top of the Udupi Style Ash Gourd Coconut Curry and serve.\n",
      "Serve the Udupi Style Ash Gourd Coconut Curry Recipe along with steamed rice, Elai Vadam and Pisarna Manga for lunch.\n"
     ]
    }
   ],
   "source": [
    "# 7d. Example Usage\n",
    "print(execute_query(\"List the preparation instructions for Udupi Style Ash Gourd Coconut Curry Recipe\"))"
   ]
  },
  {
   "cell_type": "code",
   "execution_count": 24,
   "id": "3caef4de",
   "metadata": {
    "execution": {
     "iopub.execute_input": "2025-04-21T00:35:06.724276Z",
     "iopub.status.busy": "2025-04-21T00:35:06.723954Z",
     "iopub.status.idle": "2025-04-21T00:35:07.955414Z",
     "shell.execute_reply": "2025-04-21T00:35:07.954308Z"
    },
    "papermill": {
     "duration": 1.254354,
     "end_time": "2025-04-21T00:35:07.957228",
     "exception": false,
     "start_time": "2025-04-21T00:35:06.702874",
     "status": "completed"
    },
    "tags": []
   },
   "outputs": [
    {
     "name": "stdout",
     "output_type": "stream",
     "text": [
      "The link to the full recipe is https://www.archanaskitchen.com/udupi-style-ash-gourd-coconut-curry-recipe.\n"
     ]
    }
   ],
   "source": [
    "# 7e. Example Usage\n",
    "print(execute_query(\"Provide the link to full Recipe for Udupi Style Ash Gourd Coconut Curry Recipe\"))"
   ]
  },
  {
   "cell_type": "code",
   "execution_count": null,
   "id": "ed2c00b0",
   "metadata": {
    "papermill": {
     "duration": 0.020292,
     "end_time": "2025-04-21T00:35:07.997872",
     "exception": false,
     "start_time": "2025-04-21T00:35:07.977580",
     "status": "completed"
    },
    "tags": []
   },
   "outputs": [],
   "source": []
  }
 ],
 "metadata": {
  "kaggle": {
   "accelerator": "none",
   "dataSources": [
    {
     "datasetId": 7200738,
     "sourceId": 11487969,
     "sourceType": "datasetVersion"
    }
   ],
   "dockerImageVersionId": 31012,
   "isGpuEnabled": false,
   "isInternetEnabled": true,
   "language": "python",
   "sourceType": "notebook"
  },
  "kernelspec": {
   "display_name": "Python 3",
   "language": "python",
   "name": "python3"
  },
  "language_info": {
   "codemirror_mode": {
    "name": "ipython",
    "version": 3
   },
   "file_extension": ".py",
   "mimetype": "text/x-python",
   "name": "python",
   "nbconvert_exporter": "python",
   "pygments_lexer": "ipython3",
   "version": "3.11.11"
  },
  "papermill": {
   "default_parameters": {},
   "duration": 88.261918,
   "end_time": "2025-04-21T00:35:10.896169",
   "environment_variables": {},
   "exception": null,
   "input_path": "__notebook__.ipynb",
   "output_path": "__notebook__.ipynb",
   "parameters": {},
   "start_time": "2025-04-21T00:33:42.634251",
   "version": "2.6.0"
  }
 },
 "nbformat": 4,
 "nbformat_minor": 5
}
